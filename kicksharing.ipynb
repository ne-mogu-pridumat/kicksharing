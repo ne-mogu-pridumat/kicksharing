{
 "cells": [
  {
   "cell_type": "markdown",
   "id": "c268423a",
   "metadata": {},
   "source": [
    "# Статистический анализ данных\n",
    "\n",
    "**Цель и задачи**: Провести анализ сервиса аренды самокатов GoFast. Проверить, некоторые гипотезы, которые помогут вырасти бизнесу. Датасет содержит данные о пользователях, их поездках и подписках.\n",
    "\n",
    "**План проекта**\n",
    "1. [Загрузка данных](#1)\n",
    "\n",
    "   1. [Рассмотрим данные сервеса GoFast](#11)\n",
    "   \n",
    "   2. [Выводы](#12)\n",
    "   \n",
    "2. [Предобработка данных](#2)\n",
    "\n",
    "   1. [Приведем столбец date в датасете rides к типу даты pandas](#21)\n",
    "   \n",
    "   2.  [Добавим в датафрейм rides столбец с номером месяца](#22)\n",
    "   \n",
    "   3.  [Проверка на пропущенные значения и дубликатов](#23)\n",
    "   \n",
    "   4.  [Выводы](#24)\n",
    "   \n",
    "3. [Исследовательский анализ данных](#3)\n",
    "\n",
    "   1.  [Частота встречаемости городов](#31)\n",
    "   \n",
    "   2.  [Cоотношение пользователей с подпиской и без подписки](#32)\n",
    "   \n",
    "   3.  [Возраст пользователей](#33)\n",
    "   \n",
    "   4.  [Расстояние, которое пользователь преодолел за одну поездку](#34)\n",
    "   \n",
    "   5.  [Продолжительность поездок](#35)\n",
    "   \n",
    "   6.  [Выводы](#36)\n",
    "   \n",
    "4. [Объединение данных](#4)\n",
    "\n",
    "   1.  [Объединить данные о пользователях, поездках и подписках в один датафрейм](#41)\n",
    "   \n",
    "   2.  [Создайть два датафрейма с подписками и без из df](#42)\n",
    "   \n",
    "   3.  [Визуализировать информацию о расстоянии и времени поездок для пользователей обеих категорий](#43)\n",
    "   \n",
    "   4.  [Выводы](#44)\n",
    "   \n",
    "5. [Подсчёт выручки](#5)\n",
    "\n",
    "   1.  [Найти суммарное расстояние, количество поездок и суммарное время для каждого пользователя за каждый месяц](#51)\n",
    "   \n",
    "   2.  [Добавить столбец с помесячной выручкой, которую принёс каждый пользователь](#52)\n",
    "   \n",
    "   3.  [Выводы](#53)\n",
    "   \n",
    "6. [Проверка гипотез](#6)\n",
    "\n",
    "   1.  [Проверить: тратят ли пользователи с подпиской больше времени на поездки](#61)\n",
    "   \n",
    "   2.  [Проверить, что среднее расстояние, которое проезжают пользователи с подпиской за одну поездку, не превышает 3130 метров](#62)\n",
    "   \n",
    "   3.  [Проверить, будет ли помесячная выручка от пользователей с подпиской по месяцам выше, чем выручка от пользователей без подписки](#63)\n",
    "   \n",
    "   4.  [Выборки до и после обновления сервера](#64)\n",
    "   \n",
    "7. [Распределения](#7)\n",
    "\n",
    "   1.  [Исследовние акций с промокодом](#71)\n",
    "   \n",
    "   2. [ Исследования push-уведомлений в мобильном приложении](#72)\n",
    "   \n",
    "8. [Общий вывод](#8)\n",
    "\n",
    "**Описание данных**\n",
    "\n",
    "В основных данных есть информация о пользователях, их поездках и подписках.\n",
    "\n",
    "Датасет - `Пользователи — users_go.csv`\n",
    "\n",
    "- `user_id` - уникальный идентификатор пользователя\n",
    "- `name`- имя пользователя\n",
    "- `age` - \tвозраст\n",
    "- `city`- город\n",
    "- `subscription_type`- тип подписки (free, ultra)\n",
    "\n",
    "Датасет - `Поездки — rides_go.csv`\n",
    "\n",
    "- `user_id` - уникальный идентификатор пользователя\n",
    "- `distance` - расстояние, которое пользователь проехал в текущей сессии (в метрах)\n",
    "- `duration` -продолжительность сессии (в минутах) — время с того момента, как пользователь нажал кнопку «Начать поездку» до момента, как он нажал кнопку «Завершить поездку»\n",
    "- `date` - дата совершения поездки\n",
    "\n",
    "Датасет - `Подписки — subscriptions_go.csv`\n",
    "\n",
    "- `subscription_type` -\tтип подписки\n",
    "- `minute_price` - стоимость одной минуты поездки по данной подписке\n",
    "- `start_ride_price` - стоимость начала поездки\n",
    "- `subscription_fee` -\tстоимость ежемесячного платежа"
   ]
  },
  {
   "cell_type": "code",
   "execution_count": 1,
   "id": "cf50be11",
   "metadata": {},
   "outputs": [
    {
     "name": "stderr",
     "output_type": "stream",
     "text": [
      "C:\\Users\\ksyub\\anaconda3\\lib\\site-packages\\pandas\\core\\arrays\\masked.py:60: UserWarning: Pandas requires version '1.3.6' or newer of 'bottleneck' (version '1.3.5' currently installed).\n",
      "  from pandas.core import (\n"
     ]
    }
   ],
   "source": [
    "#в ячейке храняться все библиотеки, которые будут применяться в данном проекте\n",
    "import pandas as pd\n",
    "from scipy import stats as st\n",
    "import numpy as np\n",
    "\n",
    "import matplotlib.pyplot as plt\n",
    "import seaborn as sns\n",
    "\n",
    "# отображаем все столбцы\n",
    "pd.set_option('display.max_columns', None)"
   ]
  },
  {
   "cell_type": "markdown",
   "id": "b1fb07fc",
   "metadata": {},
   "source": [
    "#### Шаг 1. Загрузка данных <a id='1'></a>"
   ]
  },
  {
   "cell_type": "markdown",
   "id": "b94e12a7",
   "metadata": {},
   "source": [
    "##### Рассмотрим данные сервеса GoFast <a id='11'></a>\n",
    "\n",
    "Загружаем 3 датафрейма, присвоим им соотвествующие переменные `user`, `rides`, `subs`."
   ]
  },
  {
   "cell_type": "code",
   "execution_count": 2,
   "id": "c728c443",
   "metadata": {},
   "outputs": [],
   "source": [
    "users = pd.read_csv('datasets/users_go.csv')\n",
    "rides = pd.read_csv('datasets/rides_go.csv')\n",
    "subs = pd.read_csv('datasets/subscriptions_go.csv')"
   ]
  },
  {
   "cell_type": "markdown",
   "id": "c97a69b6",
   "metadata": {},
   "source": [
    "Для каждой таблицы выведем первые 10 строк и с помощью метода `info()` посмотрим струкур каждой из них."
   ]
  },
  {
   "cell_type": "code",
   "execution_count": 3,
   "id": "f280898f",
   "metadata": {},
   "outputs": [
    {
     "data": {
      "text/html": [
       "<div>\n",
       "<style scoped>\n",
       "    .dataframe tbody tr th:only-of-type {\n",
       "        vertical-align: middle;\n",
       "    }\n",
       "\n",
       "    .dataframe tbody tr th {\n",
       "        vertical-align: top;\n",
       "    }\n",
       "\n",
       "    .dataframe thead th {\n",
       "        text-align: right;\n",
       "    }\n",
       "</style>\n",
       "<table border=\"1\" class=\"dataframe\">\n",
       "  <thead>\n",
       "    <tr style=\"text-align: right;\">\n",
       "      <th></th>\n",
       "      <th>user_id</th>\n",
       "      <th>name</th>\n",
       "      <th>age</th>\n",
       "      <th>city</th>\n",
       "      <th>subscription_type</th>\n",
       "    </tr>\n",
       "  </thead>\n",
       "  <tbody>\n",
       "    <tr>\n",
       "      <th>0</th>\n",
       "      <td>1</td>\n",
       "      <td>Кира</td>\n",
       "      <td>22</td>\n",
       "      <td>Тюмень</td>\n",
       "      <td>ultra</td>\n",
       "    </tr>\n",
       "    <tr>\n",
       "      <th>1</th>\n",
       "      <td>2</td>\n",
       "      <td>Станислав</td>\n",
       "      <td>31</td>\n",
       "      <td>Омск</td>\n",
       "      <td>ultra</td>\n",
       "    </tr>\n",
       "    <tr>\n",
       "      <th>2</th>\n",
       "      <td>3</td>\n",
       "      <td>Алексей</td>\n",
       "      <td>20</td>\n",
       "      <td>Москва</td>\n",
       "      <td>ultra</td>\n",
       "    </tr>\n",
       "    <tr>\n",
       "      <th>3</th>\n",
       "      <td>4</td>\n",
       "      <td>Константин</td>\n",
       "      <td>26</td>\n",
       "      <td>Ростов-на-Дону</td>\n",
       "      <td>ultra</td>\n",
       "    </tr>\n",
       "    <tr>\n",
       "      <th>4</th>\n",
       "      <td>5</td>\n",
       "      <td>Адель</td>\n",
       "      <td>28</td>\n",
       "      <td>Омск</td>\n",
       "      <td>ultra</td>\n",
       "    </tr>\n",
       "    <tr>\n",
       "      <th>5</th>\n",
       "      <td>6</td>\n",
       "      <td>Регина</td>\n",
       "      <td>25</td>\n",
       "      <td>Краснодар</td>\n",
       "      <td>ultra</td>\n",
       "    </tr>\n",
       "    <tr>\n",
       "      <th>6</th>\n",
       "      <td>7</td>\n",
       "      <td>Игорь</td>\n",
       "      <td>23</td>\n",
       "      <td>Омск</td>\n",
       "      <td>ultra</td>\n",
       "    </tr>\n",
       "    <tr>\n",
       "      <th>7</th>\n",
       "      <td>8</td>\n",
       "      <td>Юрий</td>\n",
       "      <td>23</td>\n",
       "      <td>Краснодар</td>\n",
       "      <td>ultra</td>\n",
       "    </tr>\n",
       "    <tr>\n",
       "      <th>8</th>\n",
       "      <td>9</td>\n",
       "      <td>Ян</td>\n",
       "      <td>21</td>\n",
       "      <td>Пятигорск</td>\n",
       "      <td>ultra</td>\n",
       "    </tr>\n",
       "    <tr>\n",
       "      <th>9</th>\n",
       "      <td>10</td>\n",
       "      <td>Валерий</td>\n",
       "      <td>18</td>\n",
       "      <td>Екатеринбург</td>\n",
       "      <td>ultra</td>\n",
       "    </tr>\n",
       "  </tbody>\n",
       "</table>\n",
       "</div>"
      ],
      "text/plain": [
       "   user_id        name  age            city subscription_type\n",
       "0        1        Кира   22          Тюмень             ultra\n",
       "1        2   Станислав   31            Омск             ultra\n",
       "2        3     Алексей   20          Москва             ultra\n",
       "3        4  Константин   26  Ростов-на-Дону             ultra\n",
       "4        5       Адель   28            Омск             ultra\n",
       "5        6      Регина   25       Краснодар             ultra\n",
       "6        7       Игорь   23            Омск             ultra\n",
       "7        8        Юрий   23       Краснодар             ultra\n",
       "8        9          Ян   21       Пятигорск             ultra\n",
       "9       10     Валерий   18    Екатеринбург             ultra"
      ]
     },
     "metadata": {},
     "output_type": "display_data"
    },
    {
     "name": "stdout",
     "output_type": "stream",
     "text": [
      "<class 'pandas.core.frame.DataFrame'>\n",
      "RangeIndex: 1565 entries, 0 to 1564\n",
      "Data columns (total 5 columns):\n",
      " #   Column             Non-Null Count  Dtype \n",
      "---  ------             --------------  ----- \n",
      " 0   user_id            1565 non-null   int64 \n",
      " 1   name               1565 non-null   object\n",
      " 2   age                1565 non-null   int64 \n",
      " 3   city               1565 non-null   object\n",
      " 4   subscription_type  1565 non-null   object\n",
      "dtypes: int64(2), object(3)\n",
      "memory usage: 61.3+ KB\n"
     ]
    }
   ],
   "source": [
    "display(users.head(10))\n",
    "users.info()"
   ]
  },
  {
   "cell_type": "markdown",
   "id": "edd1186a",
   "metadata": {},
   "source": [
    "Итак, в таблице `users` всего 1565 значений, а также отустсвуют пропущенные данные. Тип данных `user_id` и `age` - int64."
   ]
  },
  {
   "cell_type": "code",
   "execution_count": 4,
   "id": "76a65a86",
   "metadata": {},
   "outputs": [
    {
     "data": {
      "text/html": [
       "<div>\n",
       "<style scoped>\n",
       "    .dataframe tbody tr th:only-of-type {\n",
       "        vertical-align: middle;\n",
       "    }\n",
       "\n",
       "    .dataframe tbody tr th {\n",
       "        vertical-align: top;\n",
       "    }\n",
       "\n",
       "    .dataframe thead th {\n",
       "        text-align: right;\n",
       "    }\n",
       "</style>\n",
       "<table border=\"1\" class=\"dataframe\">\n",
       "  <thead>\n",
       "    <tr style=\"text-align: right;\">\n",
       "      <th></th>\n",
       "      <th>user_id</th>\n",
       "      <th>distance</th>\n",
       "      <th>duration</th>\n",
       "      <th>date</th>\n",
       "    </tr>\n",
       "  </thead>\n",
       "  <tbody>\n",
       "    <tr>\n",
       "      <th>0</th>\n",
       "      <td>1</td>\n",
       "      <td>4409.919140</td>\n",
       "      <td>25.599769</td>\n",
       "      <td>2021-01-01</td>\n",
       "    </tr>\n",
       "    <tr>\n",
       "      <th>1</th>\n",
       "      <td>1</td>\n",
       "      <td>2617.592153</td>\n",
       "      <td>15.816871</td>\n",
       "      <td>2021-01-18</td>\n",
       "    </tr>\n",
       "    <tr>\n",
       "      <th>2</th>\n",
       "      <td>1</td>\n",
       "      <td>754.159807</td>\n",
       "      <td>6.232113</td>\n",
       "      <td>2021-04-20</td>\n",
       "    </tr>\n",
       "    <tr>\n",
       "      <th>3</th>\n",
       "      <td>1</td>\n",
       "      <td>2694.783254</td>\n",
       "      <td>18.511000</td>\n",
       "      <td>2021-08-11</td>\n",
       "    </tr>\n",
       "    <tr>\n",
       "      <th>4</th>\n",
       "      <td>1</td>\n",
       "      <td>4028.687306</td>\n",
       "      <td>26.265803</td>\n",
       "      <td>2021-08-28</td>\n",
       "    </tr>\n",
       "    <tr>\n",
       "      <th>5</th>\n",
       "      <td>1</td>\n",
       "      <td>2770.890808</td>\n",
       "      <td>16.650138</td>\n",
       "      <td>2021-10-09</td>\n",
       "    </tr>\n",
       "    <tr>\n",
       "      <th>6</th>\n",
       "      <td>1</td>\n",
       "      <td>3039.020292</td>\n",
       "      <td>14.927879</td>\n",
       "      <td>2021-10-19</td>\n",
       "    </tr>\n",
       "    <tr>\n",
       "      <th>7</th>\n",
       "      <td>1</td>\n",
       "      <td>2842.118050</td>\n",
       "      <td>23.117468</td>\n",
       "      <td>2021-11-06</td>\n",
       "    </tr>\n",
       "    <tr>\n",
       "      <th>8</th>\n",
       "      <td>1</td>\n",
       "      <td>3412.690668</td>\n",
       "      <td>15.238072</td>\n",
       "      <td>2021-11-14</td>\n",
       "    </tr>\n",
       "    <tr>\n",
       "      <th>9</th>\n",
       "      <td>1</td>\n",
       "      <td>748.690645</td>\n",
       "      <td>15.041884</td>\n",
       "      <td>2021-11-22</td>\n",
       "    </tr>\n",
       "  </tbody>\n",
       "</table>\n",
       "</div>"
      ],
      "text/plain": [
       "   user_id     distance   duration        date\n",
       "0        1  4409.919140  25.599769  2021-01-01\n",
       "1        1  2617.592153  15.816871  2021-01-18\n",
       "2        1   754.159807   6.232113  2021-04-20\n",
       "3        1  2694.783254  18.511000  2021-08-11\n",
       "4        1  4028.687306  26.265803  2021-08-28\n",
       "5        1  2770.890808  16.650138  2021-10-09\n",
       "6        1  3039.020292  14.927879  2021-10-19\n",
       "7        1  2842.118050  23.117468  2021-11-06\n",
       "8        1  3412.690668  15.238072  2021-11-14\n",
       "9        1   748.690645  15.041884  2021-11-22"
      ]
     },
     "metadata": {},
     "output_type": "display_data"
    },
    {
     "name": "stdout",
     "output_type": "stream",
     "text": [
      "<class 'pandas.core.frame.DataFrame'>\n",
      "RangeIndex: 18068 entries, 0 to 18067\n",
      "Data columns (total 4 columns):\n",
      " #   Column    Non-Null Count  Dtype  \n",
      "---  ------    --------------  -----  \n",
      " 0   user_id   18068 non-null  int64  \n",
      " 1   distance  18068 non-null  float64\n",
      " 2   duration  18068 non-null  float64\n",
      " 3   date      18068 non-null  object \n",
      "dtypes: float64(2), int64(1), object(1)\n",
      "memory usage: 564.8+ KB\n"
     ]
    }
   ],
   "source": [
    "display(rides.head(10))\n",
    "rides.info()"
   ]
  },
  {
   "cell_type": "markdown",
   "id": "2d02c3bc",
   "metadata": {},
   "source": [
    "Итак, в таблице `rides` всего 18068 значений, а также отустсвуют пропущенные данные. Тип данных `user_id` - int64, `distance` и `duration` - float64. Столбец `date` нужно будет преобразовать из `object` в `datetime64`."
   ]
  },
  {
   "cell_type": "code",
   "execution_count": 5,
   "id": "a24704bb",
   "metadata": {},
   "outputs": [
    {
     "data": {
      "text/html": [
       "<div>\n",
       "<style scoped>\n",
       "    .dataframe tbody tr th:only-of-type {\n",
       "        vertical-align: middle;\n",
       "    }\n",
       "\n",
       "    .dataframe tbody tr th {\n",
       "        vertical-align: top;\n",
       "    }\n",
       "\n",
       "    .dataframe thead th {\n",
       "        text-align: right;\n",
       "    }\n",
       "</style>\n",
       "<table border=\"1\" class=\"dataframe\">\n",
       "  <thead>\n",
       "    <tr style=\"text-align: right;\">\n",
       "      <th></th>\n",
       "      <th>subscription_type</th>\n",
       "      <th>minute_price</th>\n",
       "      <th>start_ride_price</th>\n",
       "      <th>subscription_fee</th>\n",
       "    </tr>\n",
       "  </thead>\n",
       "  <tbody>\n",
       "    <tr>\n",
       "      <th>0</th>\n",
       "      <td>free</td>\n",
       "      <td>8</td>\n",
       "      <td>50</td>\n",
       "      <td>0</td>\n",
       "    </tr>\n",
       "    <tr>\n",
       "      <th>1</th>\n",
       "      <td>ultra</td>\n",
       "      <td>6</td>\n",
       "      <td>0</td>\n",
       "      <td>199</td>\n",
       "    </tr>\n",
       "  </tbody>\n",
       "</table>\n",
       "</div>"
      ],
      "text/plain": [
       "  subscription_type  minute_price  start_ride_price  subscription_fee\n",
       "0              free             8                50                 0\n",
       "1             ultra             6                 0               199"
      ]
     },
     "metadata": {},
     "output_type": "display_data"
    },
    {
     "name": "stdout",
     "output_type": "stream",
     "text": [
      "<class 'pandas.core.frame.DataFrame'>\n",
      "RangeIndex: 2 entries, 0 to 1\n",
      "Data columns (total 4 columns):\n",
      " #   Column             Non-Null Count  Dtype \n",
      "---  ------             --------------  ----- \n",
      " 0   subscription_type  2 non-null      object\n",
      " 1   minute_price       2 non-null      int64 \n",
      " 2   start_ride_price   2 non-null      int64 \n",
      " 3   subscription_fee   2 non-null      int64 \n",
      "dtypes: int64(3), object(1)\n",
      "memory usage: 192.0+ bytes\n"
     ]
    }
   ],
   "source": [
    "display(subs.head(10))\n",
    "subs.info()"
   ]
  },
  {
   "cell_type": "markdown",
   "id": "cdcf694e",
   "metadata": {},
   "source": [
    "В датасете `subs` всего 2 значения."
   ]
  },
  {
   "cell_type": "markdown",
   "id": "eca15b24",
   "metadata": {},
   "source": [
    "##### Выводы <a id='12'></a>\n",
    "\n",
    "- В таблице `users` всего 1565 значений, а также отустсвуют пропущенные данные. Тип данных `user_id` и `age` - `int64`. \n",
    "- В таблице `rides` всего 18068 значений, а также отустсвуют пропущенные данные. Тип данных `user_id` - `int64`, `distance` и `duration` - `float64`. Столбец `date` нужно будет преобразовать из `object` в `datetime64`.\n",
    "- В датасете `subs` всего 2 значения.\n",
    "- В таблицах отсутствуют пропуски."
   ]
  },
  {
   "cell_type": "markdown",
   "id": "6a7e955f",
   "metadata": {},
   "source": [
    "#### Шаг 2. Предобработка данных <a id='2'></a>"
   ]
  },
  {
   "cell_type": "markdown",
   "id": "9680b64d",
   "metadata": {},
   "source": [
    "##### Приведем столбец `date` в датасете `rides` к типу даты pandas <a id='21'></a>\n",
    "\n",
    "С помощью функции `to_datetime()` изменим тип данных столбца `date`."
   ]
  },
  {
   "cell_type": "code",
   "execution_count": 7,
   "id": "856cbf28",
   "metadata": {},
   "outputs": [
    {
     "data": {
      "text/plain": [
       "user_id              int64\n",
       "distance           float64\n",
       "duration           float64\n",
       "date        datetime64[ns]\n",
       "dtype: object"
      ]
     },
     "execution_count": 7,
     "metadata": {},
     "output_type": "execute_result"
    }
   ],
   "source": [
    "rides['date'] = pd.to_datetime(rides['date'], format='%Y-%m-%d')\n",
    "#проверям\n",
    "rides.dtypes"
   ]
  },
  {
   "cell_type": "markdown",
   "id": "a25afc3a",
   "metadata": {},
   "source": [
    "##### Добавим в датафрейм `rides` столбец с номером месяца <a id='22'></a>\n",
    "\n",
    "После изменения типа в `date` добавим новый столбец `month` с номером месяца."
   ]
  },
  {
   "cell_type": "code",
   "execution_count": 8,
   "id": "9fd70d76",
   "metadata": {},
   "outputs": [
    {
     "data": {
      "text/html": [
       "<div>\n",
       "<style scoped>\n",
       "    .dataframe tbody tr th:only-of-type {\n",
       "        vertical-align: middle;\n",
       "    }\n",
       "\n",
       "    .dataframe tbody tr th {\n",
       "        vertical-align: top;\n",
       "    }\n",
       "\n",
       "    .dataframe thead th {\n",
       "        text-align: right;\n",
       "    }\n",
       "</style>\n",
       "<table border=\"1\" class=\"dataframe\">\n",
       "  <thead>\n",
       "    <tr style=\"text-align: right;\">\n",
       "      <th></th>\n",
       "      <th>user_id</th>\n",
       "      <th>distance</th>\n",
       "      <th>duration</th>\n",
       "      <th>date</th>\n",
       "      <th>month</th>\n",
       "    </tr>\n",
       "  </thead>\n",
       "  <tbody>\n",
       "    <tr>\n",
       "      <th>0</th>\n",
       "      <td>1</td>\n",
       "      <td>4409.919140</td>\n",
       "      <td>25.599769</td>\n",
       "      <td>2021-01-01</td>\n",
       "      <td>1</td>\n",
       "    </tr>\n",
       "    <tr>\n",
       "      <th>1</th>\n",
       "      <td>1</td>\n",
       "      <td>2617.592153</td>\n",
       "      <td>15.816871</td>\n",
       "      <td>2021-01-18</td>\n",
       "      <td>1</td>\n",
       "    </tr>\n",
       "    <tr>\n",
       "      <th>2</th>\n",
       "      <td>1</td>\n",
       "      <td>754.159807</td>\n",
       "      <td>6.232113</td>\n",
       "      <td>2021-04-20</td>\n",
       "      <td>4</td>\n",
       "    </tr>\n",
       "    <tr>\n",
       "      <th>3</th>\n",
       "      <td>1</td>\n",
       "      <td>2694.783254</td>\n",
       "      <td>18.511000</td>\n",
       "      <td>2021-08-11</td>\n",
       "      <td>8</td>\n",
       "    </tr>\n",
       "    <tr>\n",
       "      <th>4</th>\n",
       "      <td>1</td>\n",
       "      <td>4028.687306</td>\n",
       "      <td>26.265803</td>\n",
       "      <td>2021-08-28</td>\n",
       "      <td>8</td>\n",
       "    </tr>\n",
       "    <tr>\n",
       "      <th>5</th>\n",
       "      <td>1</td>\n",
       "      <td>2770.890808</td>\n",
       "      <td>16.650138</td>\n",
       "      <td>2021-10-09</td>\n",
       "      <td>10</td>\n",
       "    </tr>\n",
       "    <tr>\n",
       "      <th>6</th>\n",
       "      <td>1</td>\n",
       "      <td>3039.020292</td>\n",
       "      <td>14.927879</td>\n",
       "      <td>2021-10-19</td>\n",
       "      <td>10</td>\n",
       "    </tr>\n",
       "    <tr>\n",
       "      <th>7</th>\n",
       "      <td>1</td>\n",
       "      <td>2842.118050</td>\n",
       "      <td>23.117468</td>\n",
       "      <td>2021-11-06</td>\n",
       "      <td>11</td>\n",
       "    </tr>\n",
       "    <tr>\n",
       "      <th>8</th>\n",
       "      <td>1</td>\n",
       "      <td>3412.690668</td>\n",
       "      <td>15.238072</td>\n",
       "      <td>2021-11-14</td>\n",
       "      <td>11</td>\n",
       "    </tr>\n",
       "    <tr>\n",
       "      <th>9</th>\n",
       "      <td>1</td>\n",
       "      <td>748.690645</td>\n",
       "      <td>15.041884</td>\n",
       "      <td>2021-11-22</td>\n",
       "      <td>11</td>\n",
       "    </tr>\n",
       "  </tbody>\n",
       "</table>\n",
       "</div>"
      ],
      "text/plain": [
       "   user_id     distance   duration       date  month\n",
       "0        1  4409.919140  25.599769 2021-01-01      1\n",
       "1        1  2617.592153  15.816871 2021-01-18      1\n",
       "2        1   754.159807   6.232113 2021-04-20      4\n",
       "3        1  2694.783254  18.511000 2021-08-11      8\n",
       "4        1  4028.687306  26.265803 2021-08-28      8\n",
       "5        1  2770.890808  16.650138 2021-10-09     10\n",
       "6        1  3039.020292  14.927879 2021-10-19     10\n",
       "7        1  2842.118050  23.117468 2021-11-06     11\n",
       "8        1  3412.690668  15.238072 2021-11-14     11\n",
       "9        1   748.690645  15.041884 2021-11-22     11"
      ]
     },
     "execution_count": 8,
     "metadata": {},
     "output_type": "execute_result"
    }
   ],
   "source": [
    "rides['month'] = pd.DatetimeIndex(rides['date']).month \n",
    "#проверяем\n",
    "rides.head(10)"
   ]
  },
  {
   "cell_type": "code",
   "execution_count": 9,
   "id": "0af8feb3",
   "metadata": {},
   "outputs": [
    {
     "name": "stdout",
     "output_type": "stream",
     "text": [
      "Данные записывались с 2021-01-01 00:00:00 по 2021-12-30 00:00:00\n"
     ]
    }
   ],
   "source": [
    "print('Данные записывались с', rides['date'].min(),'по', rides['date'].max())"
   ]
  },
  {
   "cell_type": "markdown",
   "id": "9569b9d6",
   "metadata": {},
   "source": [
    "Имеем данные за 2021 г. с 1 января по 31 декабря. Интересно, как пользователи использовали сервер в зимние время, т.к. обычно аренда, например, в Москве начинается с апреля и заканчивается в ноябре. Посмотрим строки, которые не входят в данный диапозон."
   ]
  },
  {
   "cell_type": "code",
   "execution_count": 10,
   "id": "cf4053c9",
   "metadata": {},
   "outputs": [
    {
     "data": {
      "text/html": [
       "<div>\n",
       "<style scoped>\n",
       "    .dataframe tbody tr th:only-of-type {\n",
       "        vertical-align: middle;\n",
       "    }\n",
       "\n",
       "    .dataframe tbody tr th {\n",
       "        vertical-align: top;\n",
       "    }\n",
       "\n",
       "    .dataframe thead th {\n",
       "        text-align: right;\n",
       "    }\n",
       "</style>\n",
       "<table border=\"1\" class=\"dataframe\">\n",
       "  <thead>\n",
       "    <tr style=\"text-align: right;\">\n",
       "      <th></th>\n",
       "      <th>user_id</th>\n",
       "      <th>distance</th>\n",
       "      <th>duration</th>\n",
       "      <th>date</th>\n",
       "      <th>month</th>\n",
       "    </tr>\n",
       "  </thead>\n",
       "  <tbody>\n",
       "    <tr>\n",
       "      <th>0</th>\n",
       "      <td>1</td>\n",
       "      <td>4409.919140</td>\n",
       "      <td>25.599769</td>\n",
       "      <td>2021-01-01</td>\n",
       "      <td>1</td>\n",
       "    </tr>\n",
       "    <tr>\n",
       "      <th>1</th>\n",
       "      <td>1</td>\n",
       "      <td>2617.592153</td>\n",
       "      <td>15.816871</td>\n",
       "      <td>2021-01-18</td>\n",
       "      <td>1</td>\n",
       "    </tr>\n",
       "    <tr>\n",
       "      <th>7</th>\n",
       "      <td>1</td>\n",
       "      <td>2842.118050</td>\n",
       "      <td>23.117468</td>\n",
       "      <td>2021-11-06</td>\n",
       "      <td>11</td>\n",
       "    </tr>\n",
       "    <tr>\n",
       "      <th>8</th>\n",
       "      <td>1</td>\n",
       "      <td>3412.690668</td>\n",
       "      <td>15.238072</td>\n",
       "      <td>2021-11-14</td>\n",
       "      <td>11</td>\n",
       "    </tr>\n",
       "    <tr>\n",
       "      <th>9</th>\n",
       "      <td>1</td>\n",
       "      <td>748.690645</td>\n",
       "      <td>15.041884</td>\n",
       "      <td>2021-11-22</td>\n",
       "      <td>11</td>\n",
       "    </tr>\n",
       "    <tr>\n",
       "      <th>...</th>\n",
       "      <td>...</td>\n",
       "      <td>...</td>\n",
       "      <td>...</td>\n",
       "      <td>...</td>\n",
       "      <td>...</td>\n",
       "    </tr>\n",
       "    <tr>\n",
       "      <th>18063</th>\n",
       "      <td>1534</td>\n",
       "      <td>3781.098080</td>\n",
       "      <td>19.822962</td>\n",
       "      <td>2021-11-04</td>\n",
       "      <td>11</td>\n",
       "    </tr>\n",
       "    <tr>\n",
       "      <th>18064</th>\n",
       "      <td>1534</td>\n",
       "      <td>2840.423057</td>\n",
       "      <td>21.409799</td>\n",
       "      <td>2021-11-16</td>\n",
       "      <td>11</td>\n",
       "    </tr>\n",
       "    <tr>\n",
       "      <th>18065</th>\n",
       "      <td>1534</td>\n",
       "      <td>3826.185507</td>\n",
       "      <td>18.435051</td>\n",
       "      <td>2021-11-18</td>\n",
       "      <td>11</td>\n",
       "    </tr>\n",
       "    <tr>\n",
       "      <th>18066</th>\n",
       "      <td>1534</td>\n",
       "      <td>2902.308661</td>\n",
       "      <td>16.674362</td>\n",
       "      <td>2021-11-27</td>\n",
       "      <td>11</td>\n",
       "    </tr>\n",
       "    <tr>\n",
       "      <th>18067</th>\n",
       "      <td>1534</td>\n",
       "      <td>2371.711192</td>\n",
       "      <td>15.893917</td>\n",
       "      <td>2021-12-29</td>\n",
       "      <td>12</td>\n",
       "    </tr>\n",
       "  </tbody>\n",
       "</table>\n",
       "<p>7460 rows × 5 columns</p>\n",
       "</div>"
      ],
      "text/plain": [
       "       user_id     distance   duration       date  month\n",
       "0            1  4409.919140  25.599769 2021-01-01      1\n",
       "1            1  2617.592153  15.816871 2021-01-18      1\n",
       "7            1  2842.118050  23.117468 2021-11-06     11\n",
       "8            1  3412.690668  15.238072 2021-11-14     11\n",
       "9            1   748.690645  15.041884 2021-11-22     11\n",
       "...        ...          ...        ...        ...    ...\n",
       "18063     1534  3781.098080  19.822962 2021-11-04     11\n",
       "18064     1534  2840.423057  21.409799 2021-11-16     11\n",
       "18065     1534  3826.185507  18.435051 2021-11-18     11\n",
       "18066     1534  2902.308661  16.674362 2021-11-27     11\n",
       "18067     1534  2371.711192  15.893917 2021-12-29     12\n",
       "\n",
       "[7460 rows x 5 columns]"
      ]
     },
     "execution_count": 10,
     "metadata": {},
     "output_type": "execute_result"
    }
   ],
   "source": [
    " rides.query('date >= \"2021-11-01\" | date <= \"2021-04-01\"')"
   ]
  },
  {
   "cell_type": "markdown",
   "id": "aca6f427",
   "metadata": {},
   "source": [
    "Получилось 7460 строк, что достаточно много (при 18068 перовначальных строк в датасете). Предположу, что сервис предоставляет аренду даже в зимний период, либо кикшеринг имеет зиминий вариант электросамокатов (электроснегокат на гусинице) :). Конечно, лучше уточнить у сервиса такие вопросы."
   ]
  },
  {
   "cell_type": "markdown",
   "id": "1a188282",
   "metadata": {},
   "source": [
    "##### Проверка на пропущенные значения и дубликатов <a id='23'></a>\n",
    "\n",
    "Еще раз проверим на наличие пустых строк в датасетах."
   ]
  },
  {
   "cell_type": "code",
   "execution_count": 11,
   "id": "233f5715",
   "metadata": {},
   "outputs": [
    {
     "name": "stdout",
     "output_type": "stream",
     "text": [
      "user_id              0\n",
      "name                 0\n",
      "age                  0\n",
      "city                 0\n",
      "subscription_type    0\n",
      "dtype: int64\n",
      "user_id     0\n",
      "distance    0\n",
      "duration    0\n",
      "date        0\n",
      "month       0\n",
      "dtype: int64\n",
      "subscription_type    0\n",
      "minute_price         0\n",
      "start_ride_price     0\n",
      "subscription_fee     0\n",
      "dtype: int64\n"
     ]
    }
   ],
   "source": [
    "print(users.isna().sum()) \n",
    "print(rides.isna().sum())\n",
    "print(subs.isna().sum())"
   ]
  },
  {
   "cell_type": "markdown",
   "id": "d5521a17",
   "metadata": {},
   "source": [
    "В таблицах отсутсуют пустые занчения. Проверим датафреймы на явные дубликаты."
   ]
  },
  {
   "cell_type": "code",
   "execution_count": 12,
   "id": "1cad6392",
   "metadata": {},
   "outputs": [
    {
     "name": "stdout",
     "output_type": "stream",
     "text": [
      "Количество явных дубликатов в users = 31\n",
      "Количество явных дубликатов в rides = 0\n",
      "Количество явных дубликатов в subs = 0\n"
     ]
    }
   ],
   "source": [
    "print('Количество явных дубликатов в users =',users.duplicated().sum()) \n",
    "print('Количество явных дубликатов в rides =',rides.duplicated().sum())\n",
    "print('Количество явных дубликатов в subs =',subs.duplicated().sum())"
   ]
  },
  {
   "cell_type": "markdown",
   "id": "0237b9b1",
   "metadata": {},
   "source": [
    "Итак, в `rides` и `subs` отсутсвуют явные дубликаты, а в `users` присутсвует 31 дубликат. Выведем эти дубликаты."
   ]
  },
  {
   "cell_type": "code",
   "execution_count": 13,
   "id": "46ecd760",
   "metadata": {},
   "outputs": [
    {
     "data": {
      "text/html": [
       "<div>\n",
       "<style scoped>\n",
       "    .dataframe tbody tr th:only-of-type {\n",
       "        vertical-align: middle;\n",
       "    }\n",
       "\n",
       "    .dataframe tbody tr th {\n",
       "        vertical-align: top;\n",
       "    }\n",
       "\n",
       "    .dataframe thead th {\n",
       "        text-align: right;\n",
       "    }\n",
       "</style>\n",
       "<table border=\"1\" class=\"dataframe\">\n",
       "  <thead>\n",
       "    <tr style=\"text-align: right;\">\n",
       "      <th></th>\n",
       "      <th>user_id</th>\n",
       "      <th>name</th>\n",
       "      <th>age</th>\n",
       "      <th>city</th>\n",
       "      <th>subscription_type</th>\n",
       "    </tr>\n",
       "  </thead>\n",
       "  <tbody>\n",
       "    <tr>\n",
       "      <th>1534</th>\n",
       "      <td>293</td>\n",
       "      <td>Агата</td>\n",
       "      <td>26</td>\n",
       "      <td>Краснодар</td>\n",
       "      <td>ultra</td>\n",
       "    </tr>\n",
       "    <tr>\n",
       "      <th>1535</th>\n",
       "      <td>16</td>\n",
       "      <td>Амалия</td>\n",
       "      <td>27</td>\n",
       "      <td>Краснодар</td>\n",
       "      <td>ultra</td>\n",
       "    </tr>\n",
       "    <tr>\n",
       "      <th>1536</th>\n",
       "      <td>909</td>\n",
       "      <td>Константин</td>\n",
       "      <td>20</td>\n",
       "      <td>Екатеринбург</td>\n",
       "      <td>free</td>\n",
       "    </tr>\n",
       "    <tr>\n",
       "      <th>1537</th>\n",
       "      <td>403</td>\n",
       "      <td>Полина</td>\n",
       "      <td>19</td>\n",
       "      <td>Сочи</td>\n",
       "      <td>ultra</td>\n",
       "    </tr>\n",
       "    <tr>\n",
       "      <th>1538</th>\n",
       "      <td>908</td>\n",
       "      <td>Рустам</td>\n",
       "      <td>30</td>\n",
       "      <td>Тюмень</td>\n",
       "      <td>free</td>\n",
       "    </tr>\n",
       "    <tr>\n",
       "      <th>1539</th>\n",
       "      <td>43</td>\n",
       "      <td>Стефания</td>\n",
       "      <td>22</td>\n",
       "      <td>Омск</td>\n",
       "      <td>ultra</td>\n",
       "    </tr>\n",
       "    <tr>\n",
       "      <th>1540</th>\n",
       "      <td>127</td>\n",
       "      <td>Павел</td>\n",
       "      <td>25</td>\n",
       "      <td>Пятигорск</td>\n",
       "      <td>ultra</td>\n",
       "    </tr>\n",
       "    <tr>\n",
       "      <th>1541</th>\n",
       "      <td>659</td>\n",
       "      <td>Злата</td>\n",
       "      <td>27</td>\n",
       "      <td>Ростов-на-Дону</td>\n",
       "      <td>ultra</td>\n",
       "    </tr>\n",
       "    <tr>\n",
       "      <th>1542</th>\n",
       "      <td>204</td>\n",
       "      <td>Руслан</td>\n",
       "      <td>30</td>\n",
       "      <td>Пятигорск</td>\n",
       "      <td>ultra</td>\n",
       "    </tr>\n",
       "    <tr>\n",
       "      <th>1543</th>\n",
       "      <td>153</td>\n",
       "      <td>Герман</td>\n",
       "      <td>23</td>\n",
       "      <td>Москва</td>\n",
       "      <td>ultra</td>\n",
       "    </tr>\n",
       "    <tr>\n",
       "      <th>1544</th>\n",
       "      <td>1245</td>\n",
       "      <td>Регина</td>\n",
       "      <td>27</td>\n",
       "      <td>Пятигорск</td>\n",
       "      <td>free</td>\n",
       "    </tr>\n",
       "    <tr>\n",
       "      <th>1545</th>\n",
       "      <td>807</td>\n",
       "      <td>Александр</td>\n",
       "      <td>28</td>\n",
       "      <td>Екатеринбург</td>\n",
       "      <td>free</td>\n",
       "    </tr>\n",
       "    <tr>\n",
       "      <th>1546</th>\n",
       "      <td>924</td>\n",
       "      <td>Мария</td>\n",
       "      <td>23</td>\n",
       "      <td>Пятигорск</td>\n",
       "      <td>free</td>\n",
       "    </tr>\n",
       "    <tr>\n",
       "      <th>1547</th>\n",
       "      <td>635</td>\n",
       "      <td>Герман</td>\n",
       "      <td>21</td>\n",
       "      <td>Москва</td>\n",
       "      <td>ultra</td>\n",
       "    </tr>\n",
       "    <tr>\n",
       "      <th>1548</th>\n",
       "      <td>136</td>\n",
       "      <td>Марсель</td>\n",
       "      <td>25</td>\n",
       "      <td>Тюмень</td>\n",
       "      <td>ultra</td>\n",
       "    </tr>\n",
       "    <tr>\n",
       "      <th>1549</th>\n",
       "      <td>108</td>\n",
       "      <td>Влада</td>\n",
       "      <td>29</td>\n",
       "      <td>Тюмень</td>\n",
       "      <td>ultra</td>\n",
       "    </tr>\n",
       "    <tr>\n",
       "      <th>1550</th>\n",
       "      <td>737</td>\n",
       "      <td>Мелания</td>\n",
       "      <td>27</td>\n",
       "      <td>Ростов-на-Дону</td>\n",
       "      <td>free</td>\n",
       "    </tr>\n",
       "    <tr>\n",
       "      <th>1551</th>\n",
       "      <td>666</td>\n",
       "      <td>Зарина</td>\n",
       "      <td>29</td>\n",
       "      <td>Москва</td>\n",
       "      <td>ultra</td>\n",
       "    </tr>\n",
       "    <tr>\n",
       "      <th>1552</th>\n",
       "      <td>297</td>\n",
       "      <td>Егор</td>\n",
       "      <td>33</td>\n",
       "      <td>Пятигорск</td>\n",
       "      <td>ultra</td>\n",
       "    </tr>\n",
       "    <tr>\n",
       "      <th>1553</th>\n",
       "      <td>121</td>\n",
       "      <td>Алина</td>\n",
       "      <td>25</td>\n",
       "      <td>Пятигорск</td>\n",
       "      <td>ultra</td>\n",
       "    </tr>\n",
       "    <tr>\n",
       "      <th>1554</th>\n",
       "      <td>1198</td>\n",
       "      <td>Демид</td>\n",
       "      <td>29</td>\n",
       "      <td>Ростов-на-Дону</td>\n",
       "      <td>free</td>\n",
       "    </tr>\n",
       "    <tr>\n",
       "      <th>1555</th>\n",
       "      <td>72</td>\n",
       "      <td>Никита</td>\n",
       "      <td>25</td>\n",
       "      <td>Москва</td>\n",
       "      <td>ultra</td>\n",
       "    </tr>\n",
       "    <tr>\n",
       "      <th>1556</th>\n",
       "      <td>422</td>\n",
       "      <td>Кирилл</td>\n",
       "      <td>27</td>\n",
       "      <td>Сочи</td>\n",
       "      <td>ultra</td>\n",
       "    </tr>\n",
       "    <tr>\n",
       "      <th>1557</th>\n",
       "      <td>611</td>\n",
       "      <td>Владимир</td>\n",
       "      <td>28</td>\n",
       "      <td>Омск</td>\n",
       "      <td>ultra</td>\n",
       "    </tr>\n",
       "    <tr>\n",
       "      <th>1558</th>\n",
       "      <td>1237</td>\n",
       "      <td>Евгения</td>\n",
       "      <td>23</td>\n",
       "      <td>Тюмень</td>\n",
       "      <td>free</td>\n",
       "    </tr>\n",
       "    <tr>\n",
       "      <th>1559</th>\n",
       "      <td>209</td>\n",
       "      <td>Андрей</td>\n",
       "      <td>23</td>\n",
       "      <td>Омск</td>\n",
       "      <td>ultra</td>\n",
       "    </tr>\n",
       "    <tr>\n",
       "      <th>1560</th>\n",
       "      <td>829</td>\n",
       "      <td>Федор</td>\n",
       "      <td>29</td>\n",
       "      <td>Пятигорск</td>\n",
       "      <td>free</td>\n",
       "    </tr>\n",
       "    <tr>\n",
       "      <th>1561</th>\n",
       "      <td>809</td>\n",
       "      <td>Юрий</td>\n",
       "      <td>26</td>\n",
       "      <td>Сочи</td>\n",
       "      <td>free</td>\n",
       "    </tr>\n",
       "    <tr>\n",
       "      <th>1562</th>\n",
       "      <td>307</td>\n",
       "      <td>Ясмина</td>\n",
       "      <td>19</td>\n",
       "      <td>Краснодар</td>\n",
       "      <td>ultra</td>\n",
       "    </tr>\n",
       "    <tr>\n",
       "      <th>1563</th>\n",
       "      <td>47</td>\n",
       "      <td>Юрий</td>\n",
       "      <td>28</td>\n",
       "      <td>Тюмень</td>\n",
       "      <td>ultra</td>\n",
       "    </tr>\n",
       "    <tr>\n",
       "      <th>1564</th>\n",
       "      <td>1045</td>\n",
       "      <td>Артемий</td>\n",
       "      <td>28</td>\n",
       "      <td>Ростов-на-Дону</td>\n",
       "      <td>free</td>\n",
       "    </tr>\n",
       "  </tbody>\n",
       "</table>\n",
       "</div>"
      ],
      "text/plain": [
       "      user_id        name  age            city subscription_type\n",
       "1534      293       Агата   26       Краснодар             ultra\n",
       "1535       16      Амалия   27       Краснодар             ultra\n",
       "1536      909  Константин   20    Екатеринбург              free\n",
       "1537      403      Полина   19            Сочи             ultra\n",
       "1538      908      Рустам   30          Тюмень              free\n",
       "1539       43    Стефания   22            Омск             ultra\n",
       "1540      127       Павел   25       Пятигорск             ultra\n",
       "1541      659       Злата   27  Ростов-на-Дону             ultra\n",
       "1542      204      Руслан   30       Пятигорск             ultra\n",
       "1543      153      Герман   23          Москва             ultra\n",
       "1544     1245      Регина   27       Пятигорск              free\n",
       "1545      807   Александр   28    Екатеринбург              free\n",
       "1546      924       Мария   23       Пятигорск              free\n",
       "1547      635      Герман   21          Москва             ultra\n",
       "1548      136     Марсель   25          Тюмень             ultra\n",
       "1549      108       Влада   29          Тюмень             ultra\n",
       "1550      737     Мелания   27  Ростов-на-Дону              free\n",
       "1551      666      Зарина   29          Москва             ultra\n",
       "1552      297        Егор   33       Пятигорск             ultra\n",
       "1553      121       Алина   25       Пятигорск             ultra\n",
       "1554     1198       Демид   29  Ростов-на-Дону              free\n",
       "1555       72      Никита   25          Москва             ultra\n",
       "1556      422      Кирилл   27            Сочи             ultra\n",
       "1557      611    Владимир   28            Омск             ultra\n",
       "1558     1237     Евгения   23          Тюмень              free\n",
       "1559      209      Андрей   23            Омск             ultra\n",
       "1560      829       Федор   29       Пятигорск              free\n",
       "1561      809        Юрий   26            Сочи              free\n",
       "1562      307      Ясмина   19       Краснодар             ultra\n",
       "1563       47        Юрий   28          Тюмень             ultra\n",
       "1564     1045     Артемий   28  Ростов-на-Дону              free"
      ]
     },
     "metadata": {},
     "output_type": "display_data"
    },
    {
     "name": "stdout",
     "output_type": "stream",
     "text": [
      "Соотношение дубликатов в users к общему количеству строк 1.9808306709265175 %\n"
     ]
    }
   ],
   "source": [
    "user_duplicate = users[users.duplicated()]\n",
    "\n",
    "display(user_duplicate)\n",
    "print('Соотношение дубликатов в users к общему количеству строк' ,len(user_duplicate) /len(users) * 100, '%')"
   ]
  },
  {
   "cell_type": "markdown",
   "id": "0a4f8282",
   "metadata": {},
   "source": [
    "Скорее всего данные строки случайно повторно внесли, так как соотношение дубликатов к общему числу строк составляет 2% (что является незначительным количеством), уберем дубли."
   ]
  },
  {
   "cell_type": "code",
   "execution_count": 14,
   "id": "4d320acb",
   "metadata": {},
   "outputs": [
    {
     "name": "stdout",
     "output_type": "stream",
     "text": [
      "Количество явных дубликатов в subs = 0\n"
     ]
    }
   ],
   "source": [
    "users.drop_duplicates(inplace=True)\n",
    "\n",
    "# проверем количество дубликатов в users\n",
    "print('Количество явных дубликатов в subs =',subs.duplicated().sum())"
   ]
  },
  {
   "cell_type": "markdown",
   "id": "e7b95ab3",
   "metadata": {},
   "source": [
    "##### Выводы <a id='24'></a>\n",
    "\n",
    "- Для датасета `rides` в столбце `date` поменяли тип данных на `datetime64`.\n",
    "- Добавлен столбец `month` в датафрейм `rides`.\n",
    "- В датафреймах отстутсвуют пустые значения.\n",
    "- В таблицах `rides` и `subs` нет дубликатов.\n",
    "- В `useres` присутствовал 31 дубликат, так как соотношение дкбликатов к общему числу строк составлял около 2%, то были убраны дублирующие строки."
   ]
  },
  {
   "cell_type": "markdown",
   "id": "60f7b716",
   "metadata": {},
   "source": [
    "#### Шаг 3. Исследовательский анализ данных <a id='3'></a>\n",
    "\n",
    "##### Частота встречаемости городов <a id='31'></a>"
   ]
  },
  {
   "cell_type": "code",
   "execution_count": 15,
   "id": "64a02b20",
   "metadata": {},
   "outputs": [
    {
     "data": {
      "image/png": "[encoded data removed]",
      "text/plain": [
       "<Figure size 640x480 with 1 Axes>"
      ]
     },
     "metadata": {},
     "output_type": "display_data"
    }
   ],
   "source": [
    "users_pivot =(users.pivot_table(index ='city',\n",
    "                                values = 'user_id',\n",
    "                                aggfunc='count'\n",
    ")\n",
    "             .sort_values(by='user_id')\n",
    "             .reset_index()\n",
    "             .rename(columns = {'user_id' : 'count'}))\n",
    "\n",
    "# строим график\n",
    "sns.barplot( y=\"city\", x=\"count\", data =users_pivot).set_title('Частота встречаемости городов');\n",
    "plt.xlabel(\"Частота\");\n",
    "plt.ylabel(\"Город\");\n",
    "\n",
    "# добавим частоту к каждому городу\n",
    "for index ,value in enumerate(users_pivot.values):\n",
    "    plt.text(value[1], index, str(value[1]))"
   ]
  },
  {
   "cell_type": "markdown",
   "id": "a3175d2e",
   "metadata": {},
   "source": [
    "На графике видно, что больше всего сервисом пользуются в Пятгеорске (219), а меньше в Москве (168)."
   ]
  },
  {
   "cell_type": "markdown",
   "id": "ea5ddd1c",
   "metadata": {},
   "source": [
    "##### Cоотношение пользователей с подпиской и без подписки <a id='32'></a>"
   ]
  },
  {
   "cell_type": "code",
   "execution_count": 16,
   "id": "cfeec9d3",
   "metadata": {},
   "outputs": [
    {
     "data": {
      "image/png": "[encoded data removed]",
      "text/plain": [
       "<Figure size 1000x1000 with 1 Axes>"
      ]
     },
     "metadata": {},
     "output_type": "display_data"
    }
   ],
   "source": [
    "users_pivot =(users.pivot_table(index ='subscription_type',\n",
    "                                values = 'user_id',\n",
    "                                aggfunc='count'\n",
    ")\n",
    "             .sort_values(by='user_id')\n",
    "             .rename(columns = {'user_id' : 'count'}))\n",
    "\n",
    "(users_pivot.plot.pie(y='count',\n",
    "                      autopct='%.0f%%', \n",
    "                      figsize=(10, 10), \n",
    "                      legend=False, \n",
    "                      wedgeprops=dict(width=0.5))\n",
    " .set_title('Cоотношение пользователей с подпиской и без подписки')\n",
    "\n",
    ");\n",
    "\n",
    "plt.ylabel('');"
   ]
  },
  {
   "cell_type": "markdown",
   "id": "c65b338d",
   "metadata": {},
   "source": [
    "Итак, 46% пользователей пользуются подписокй, а 54% ее не имеют."
   ]
  },
  {
   "cell_type": "markdown",
   "id": "e60939a8",
   "metadata": {},
   "source": [
    "##### Возраст пользователей <a id='33'></a>"
   ]
  },
  {
   "cell_type": "code",
   "execution_count": 17,
   "id": "fc5f3b2c",
   "metadata": {},
   "outputs": [
    {
     "data": {
      "text/plain": [
       "count    1534.000000\n",
       "mean       24.903520\n",
       "std         4.572367\n",
       "min        12.000000\n",
       "25%        22.000000\n",
       "50%        25.000000\n",
       "75%        28.000000\n",
       "max        43.000000\n",
       "Name: age, dtype: float64"
      ]
     },
     "execution_count": 17,
     "metadata": {},
     "output_type": "execute_result"
    },
    {
     "data": {
      "image/png": "[encoded data removed]",
      "text/plain": [
       "<Figure size 640x480 with 2 Axes>"
      ]
     },
     "metadata": {},
     "output_type": "display_data"
    }
   ],
   "source": [
    "f, (ax_box, ax_hist) = plt.subplots(2, sharex=True, gridspec_kw={\"height_ratios\": (.15, .85)})\n",
    "\n",
    "sns.boxplot(users[\"age\"], ax=ax_box).set_title('Возраст пользователей');\n",
    "sns.histplot(data=users, x=\"age\", ax=ax_hist, bins=10);\n",
    "\n",
    "ax_box.set(xlabel='');\n",
    "plt.xlabel('Возраст');\n",
    "plt.ylabel('Частота');\n",
    "\n",
    "users['age'].describe()"
   ]
  },
  {
   "cell_type": "markdown",
   "id": "cf432ff7",
   "metadata": {},
   "source": [
    "Видим, что средний возраст пользователей составляет 25 лет, при этом минимальный возраст сотсавляет 12 лет, а максимальный 43 года."
   ]
  },
  {
   "cell_type": "markdown",
   "id": "b08a86a9",
   "metadata": {},
   "source": [
    "##### Расстояние, которое пользователь преодолел за одну поездку <a id='34'></a>"
   ]
  },
  {
   "cell_type": "code",
   "execution_count": 18,
   "id": "cbc012f6",
   "metadata": {},
   "outputs": [
    {
     "data": {
      "text/plain": [
       "count    18068.000000\n",
       "mean      3070.659976\n",
       "std       1116.831209\n",
       "min          0.855683\n",
       "25%       2543.226360\n",
       "50%       3133.609994\n",
       "75%       3776.222735\n",
       "max       7211.007745\n",
       "Name: distance, dtype: float64"
      ]
     },
     "execution_count": 18,
     "metadata": {},
     "output_type": "execute_result"
    },
    {
     "data": {
      "image/png": "[encoded data removed]",
      "text/plain": [
       "<Figure size 640x480 with 2 Axes>"
      ]
     },
     "metadata": {},
     "output_type": "display_data"
    }
   ],
   "source": [
    "f, (ax_box, ax_hist) = plt.subplots(2, sharex=True, gridspec_kw={\"height_ratios\": (.15, .85)})\n",
    "\n",
    "sns.boxplot(rides['distance'], ax=ax_box).set_title('Расстояние пользователей за одну поездку');\n",
    "sns.histplot(data=rides, x='distance', ax=ax_hist, bins=30);\n",
    "\n",
    "ax_box.set(xlabel='');\n",
    "plt.xlabel('Расстояние, м');\n",
    "plt.ylabel('Частота');\n",
    "\n",
    "rides['distance'].describe()"
   ]
  },
  {
   "cell_type": "markdown",
   "id": "47d13882",
   "metadata": {},
   "source": [
    "В среднем пользователи преодолевают около 3100 м. При этом минимальное значение составляет около 1 м, а макимальное 7200, скорее всего пользователи могли случайно выбрать не тот самокат, например, при минимальном расстояние."
   ]
  },
  {
   "cell_type": "markdown",
   "id": "cc1bfd32",
   "metadata": {},
   "source": [
    "##### Продолжительность поездок <a id='35'></a>"
   ]
  },
  {
   "cell_type": "code",
   "execution_count": 19,
   "id": "da5301f1",
   "metadata": {},
   "outputs": [
    {
     "data": {
      "text/plain": [
       "count    18068.000000\n",
       "mean        17.805011\n",
       "std          6.091051\n",
       "min          0.500000\n",
       "25%         13.597563\n",
       "50%         17.678395\n",
       "75%         21.724800\n",
       "max         40.823963\n",
       "Name: duration, dtype: float64"
      ]
     },
     "execution_count": 19,
     "metadata": {},
     "output_type": "execute_result"
    },
    {
     "data": {
      "image/png": "[encoded data removed]",
      "text/plain": [
       "<Figure size 640x480 with 2 Axes>"
      ]
     },
     "metadata": {},
     "output_type": "display_data"
    }
   ],
   "source": [
    "f, (ax_box, ax_hist) = plt.subplots(2, sharex=True, gridspec_kw={\"height_ratios\": (.15, .85)})\n",
    "\n",
    "sns.boxplot(rides['duration'], ax=ax_box).set_title('Продолжительность поездок');\n",
    "sns.histplot(data=rides, x='duration', ax=ax_hist, bins=30);\n",
    "\n",
    "ax_box.set(xlabel='');\n",
    "plt.xlabel('Продолжинтельность, мин');\n",
    "plt.ylabel('Частота');\n",
    "\n",
    "rides['duration'].describe()"
   ]
  },
  {
   "cell_type": "markdown",
   "id": "faaeb6c6",
   "metadata": {},
   "source": [
    "Итак, в среднем пользователи катаются на электросамокатах 18 минут. При этом минимальное количество времени составляет 30 секунд, а макимальное 41 минуту."
   ]
  },
  {
   "cell_type": "markdown",
   "id": "ccf1a5c7",
   "metadata": {},
   "source": [
    "##### Выводы <a id='36'></a>\n",
    "\n",
    "- Больше всего сервисом пользуются в Пятгеорске (219), а меньше в Москве (168).\n",
    "- 46% пользователей пользуются подписокй, а 54% ее не имеют.\n",
    "- Средний возраст пользователей составляет 25 лет, при этом минимальный возраст сотсавляет 12 лет, а максимальный 43 года.\n",
    "- В среднем пользователи преодолевают около 3100 м. При этом минимальное значение составляет около 1 м, а макимальное 7200, скорее всего пользователи могли случайно выбрать не тот самокат, например, при минимальном расстояние.\n",
    "- В среднем пользователи катаются на электросамокатах 18 минут. При этом минимальное количество времени составляет 30 секунд, а макимальное 41."
   ]
  },
  {
   "cell_type": "markdown",
   "id": "09d9f3ac",
   "metadata": {},
   "source": [
    "#### Шаг 4. Объединение данных <a id='4'></a>\n",
    "\n",
    "##### Объединить данные о пользователях, поездках и подписках в один датафрейм <a id='41'></a>\n",
    "\n",
    "С помощью метода `merge` объединим все таблицы. Выведем общую информацию о новом датасете и первые 10 строчек."
   ]
  },
  {
   "cell_type": "code",
   "execution_count": 20,
   "id": "44d3ceab",
   "metadata": {},
   "outputs": [
    {
     "name": "stdout",
     "output_type": "stream",
     "text": [
      "<class 'pandas.core.frame.DataFrame'>\n",
      "RangeIndex: 18068 entries, 0 to 18067\n",
      "Data columns (total 12 columns):\n",
      " #   Column             Non-Null Count  Dtype         \n",
      "---  ------             --------------  -----         \n",
      " 0   user_id            18068 non-null  int64         \n",
      " 1   name               18068 non-null  object        \n",
      " 2   age                18068 non-null  int64         \n",
      " 3   city               18068 non-null  object        \n",
      " 4   subscription_type  18068 non-null  object        \n",
      " 5   distance           18068 non-null  float64       \n",
      " 6   duration           18068 non-null  float64       \n",
      " 7   date               18068 non-null  datetime64[ns]\n",
      " 8   month              18068 non-null  int32         \n",
      " 9   minute_price       18068 non-null  int64         \n",
      " 10  start_ride_price   18068 non-null  int64         \n",
      " 11  subscription_fee   18068 non-null  int64         \n",
      "dtypes: datetime64[ns](1), float64(2), int32(1), int64(5), object(3)\n",
      "memory usage: 1.6+ MB\n"
     ]
    },
    {
     "data": {
      "text/html": [
       "<div>\n",
       "<style scoped>\n",
       "    .dataframe tbody tr th:only-of-type {\n",
       "        vertical-align: middle;\n",
       "    }\n",
       "\n",
       "    .dataframe tbody tr th {\n",
       "        vertical-align: top;\n",
       "    }\n",
       "\n",
       "    .dataframe thead th {\n",
       "        text-align: right;\n",
       "    }\n",
       "</style>\n",
       "<table border=\"1\" class=\"dataframe\">\n",
       "  <thead>\n",
       "    <tr style=\"text-align: right;\">\n",
       "      <th></th>\n",
       "      <th>user_id</th>\n",
       "      <th>name</th>\n",
       "      <th>age</th>\n",
       "      <th>city</th>\n",
       "      <th>subscription_type</th>\n",
       "      <th>distance</th>\n",
       "      <th>duration</th>\n",
       "      <th>date</th>\n",
       "      <th>month</th>\n",
       "      <th>minute_price</th>\n",
       "      <th>start_ride_price</th>\n",
       "      <th>subscription_fee</th>\n",
       "    </tr>\n",
       "  </thead>\n",
       "  <tbody>\n",
       "    <tr>\n",
       "      <th>0</th>\n",
       "      <td>1</td>\n",
       "      <td>Кира</td>\n",
       "      <td>22</td>\n",
       "      <td>Тюмень</td>\n",
       "      <td>ultra</td>\n",
       "      <td>4409.919140</td>\n",
       "      <td>25.599769</td>\n",
       "      <td>2021-01-01</td>\n",
       "      <td>1</td>\n",
       "      <td>6</td>\n",
       "      <td>0</td>\n",
       "      <td>199</td>\n",
       "    </tr>\n",
       "    <tr>\n",
       "      <th>1</th>\n",
       "      <td>1</td>\n",
       "      <td>Кира</td>\n",
       "      <td>22</td>\n",
       "      <td>Тюмень</td>\n",
       "      <td>ultra</td>\n",
       "      <td>2617.592153</td>\n",
       "      <td>15.816871</td>\n",
       "      <td>2021-01-18</td>\n",
       "      <td>1</td>\n",
       "      <td>6</td>\n",
       "      <td>0</td>\n",
       "      <td>199</td>\n",
       "    </tr>\n",
       "    <tr>\n",
       "      <th>2</th>\n",
       "      <td>1</td>\n",
       "      <td>Кира</td>\n",
       "      <td>22</td>\n",
       "      <td>Тюмень</td>\n",
       "      <td>ultra</td>\n",
       "      <td>754.159807</td>\n",
       "      <td>6.232113</td>\n",
       "      <td>2021-04-20</td>\n",
       "      <td>4</td>\n",
       "      <td>6</td>\n",
       "      <td>0</td>\n",
       "      <td>199</td>\n",
       "    </tr>\n",
       "    <tr>\n",
       "      <th>3</th>\n",
       "      <td>1</td>\n",
       "      <td>Кира</td>\n",
       "      <td>22</td>\n",
       "      <td>Тюмень</td>\n",
       "      <td>ultra</td>\n",
       "      <td>2694.783254</td>\n",
       "      <td>18.511000</td>\n",
       "      <td>2021-08-11</td>\n",
       "      <td>8</td>\n",
       "      <td>6</td>\n",
       "      <td>0</td>\n",
       "      <td>199</td>\n",
       "    </tr>\n",
       "    <tr>\n",
       "      <th>4</th>\n",
       "      <td>1</td>\n",
       "      <td>Кира</td>\n",
       "      <td>22</td>\n",
       "      <td>Тюмень</td>\n",
       "      <td>ultra</td>\n",
       "      <td>4028.687306</td>\n",
       "      <td>26.265803</td>\n",
       "      <td>2021-08-28</td>\n",
       "      <td>8</td>\n",
       "      <td>6</td>\n",
       "      <td>0</td>\n",
       "      <td>199</td>\n",
       "    </tr>\n",
       "    <tr>\n",
       "      <th>5</th>\n",
       "      <td>1</td>\n",
       "      <td>Кира</td>\n",
       "      <td>22</td>\n",
       "      <td>Тюмень</td>\n",
       "      <td>ultra</td>\n",
       "      <td>2770.890808</td>\n",
       "      <td>16.650138</td>\n",
       "      <td>2021-10-09</td>\n",
       "      <td>10</td>\n",
       "      <td>6</td>\n",
       "      <td>0</td>\n",
       "      <td>199</td>\n",
       "    </tr>\n",
       "    <tr>\n",
       "      <th>6</th>\n",
       "      <td>1</td>\n",
       "      <td>Кира</td>\n",
       "      <td>22</td>\n",
       "      <td>Тюмень</td>\n",
       "      <td>ultra</td>\n",
       "      <td>3039.020292</td>\n",
       "      <td>14.927879</td>\n",
       "      <td>2021-10-19</td>\n",
       "      <td>10</td>\n",
       "      <td>6</td>\n",
       "      <td>0</td>\n",
       "      <td>199</td>\n",
       "    </tr>\n",
       "    <tr>\n",
       "      <th>7</th>\n",
       "      <td>1</td>\n",
       "      <td>Кира</td>\n",
       "      <td>22</td>\n",
       "      <td>Тюмень</td>\n",
       "      <td>ultra</td>\n",
       "      <td>2842.118050</td>\n",
       "      <td>23.117468</td>\n",
       "      <td>2021-11-06</td>\n",
       "      <td>11</td>\n",
       "      <td>6</td>\n",
       "      <td>0</td>\n",
       "      <td>199</td>\n",
       "    </tr>\n",
       "    <tr>\n",
       "      <th>8</th>\n",
       "      <td>1</td>\n",
       "      <td>Кира</td>\n",
       "      <td>22</td>\n",
       "      <td>Тюмень</td>\n",
       "      <td>ultra</td>\n",
       "      <td>3412.690668</td>\n",
       "      <td>15.238072</td>\n",
       "      <td>2021-11-14</td>\n",
       "      <td>11</td>\n",
       "      <td>6</td>\n",
       "      <td>0</td>\n",
       "      <td>199</td>\n",
       "    </tr>\n",
       "    <tr>\n",
       "      <th>9</th>\n",
       "      <td>1</td>\n",
       "      <td>Кира</td>\n",
       "      <td>22</td>\n",
       "      <td>Тюмень</td>\n",
       "      <td>ultra</td>\n",
       "      <td>748.690645</td>\n",
       "      <td>15.041884</td>\n",
       "      <td>2021-11-22</td>\n",
       "      <td>11</td>\n",
       "      <td>6</td>\n",
       "      <td>0</td>\n",
       "      <td>199</td>\n",
       "    </tr>\n",
       "  </tbody>\n",
       "</table>\n",
       "</div>"
      ],
      "text/plain": [
       "   user_id  name  age    city subscription_type     distance   duration  \\\n",
       "0        1  Кира   22  Тюмень             ultra  4409.919140  25.599769   \n",
       "1        1  Кира   22  Тюмень             ultra  2617.592153  15.816871   \n",
       "2        1  Кира   22  Тюмень             ultra   754.159807   6.232113   \n",
       "3        1  Кира   22  Тюмень             ultra  2694.783254  18.511000   \n",
       "4        1  Кира   22  Тюмень             ultra  4028.687306  26.265803   \n",
       "5        1  Кира   22  Тюмень             ultra  2770.890808  16.650138   \n",
       "6        1  Кира   22  Тюмень             ultra  3039.020292  14.927879   \n",
       "7        1  Кира   22  Тюмень             ultra  2842.118050  23.117468   \n",
       "8        1  Кира   22  Тюмень             ultra  3412.690668  15.238072   \n",
       "9        1  Кира   22  Тюмень             ultra   748.690645  15.041884   \n",
       "\n",
       "        date  month  minute_price  start_ride_price  subscription_fee  \n",
       "0 2021-01-01      1             6                 0               199  \n",
       "1 2021-01-18      1             6                 0               199  \n",
       "2 2021-04-20      4             6                 0               199  \n",
       "3 2021-08-11      8             6                 0               199  \n",
       "4 2021-08-28      8             6                 0               199  \n",
       "5 2021-10-09     10             6                 0               199  \n",
       "6 2021-10-19     10             6                 0               199  \n",
       "7 2021-11-06     11             6                 0               199  \n",
       "8 2021-11-14     11             6                 0               199  \n",
       "9 2021-11-22     11             6                 0               199  "
      ]
     },
     "execution_count": 20,
     "metadata": {},
     "output_type": "execute_result"
    }
   ],
   "source": [
    "df_merge = pd.merge(users, rides, on='user_id', how='inner')\n",
    "df = pd.merge(df_merge, subs, on='subscription_type', how='inner')\n",
    "df.info()\n",
    "df.head(10)"
   ]
  },
  {
   "cell_type": "markdown",
   "id": "5fb0f38c",
   "metadata": {},
   "source": [
    "Так как из 3 датасетов, максимальное количество строк было в `users` (18068 строк), то будем сравнивать число строк в `users` со скелинной таблицей."
   ]
  },
  {
   "cell_type": "code",
   "execution_count": 21,
   "id": "86c08b17",
   "metadata": {},
   "outputs": [
    {
     "data": {
      "text/plain": [
       "'Число строк совпадает с датасетом users'"
      ]
     },
     "execution_count": 21,
     "metadata": {},
     "output_type": "execute_result"
    }
   ],
   "source": [
    "'Число строк совпадает с датасетом users' if df.shape[0] == 18068 else 'Требуется проверить данные или код'"
   ]
  },
  {
   "cell_type": "markdown",
   "id": "3f4d294c",
   "metadata": {},
   "source": [
    "##### Создадим два датафрейма с подписками и без из df <a id='42'></a>\n",
    "\n",
    "С помощью метода `query()` сделаем срез для 2 случаев, и запишим их в отдельные датасеты. Проверим, совпадают ли количество строк с основным датафреймом."
   ]
  },
  {
   "cell_type": "code",
   "execution_count": 22,
   "id": "316741a7",
   "metadata": {},
   "outputs": [
    {
     "name": "stdout",
     "output_type": "stream",
     "text": [
      "Число строк совпадает с основным датафреймом\n"
     ]
    }
   ],
   "source": [
    "df_with_sub = df.query(\"subscription_type == 'ultra'\")\n",
    "df_without_sub = df.query(\"subscription_type == 'free'\")\n",
    "\n",
    "# проверяем, что сумма общего числа строк в 2 датафреймах совпадает с основным\n",
    "print( \"Число строк совпадает с основным датафреймом\" if (df_with_sub.shape[0] + df_without_sub.shape[0]) \n",
    "      ==  df.shape[0] else \"Нужна дополнительная проверка\")"
   ]
  },
  {
   "cell_type": "markdown",
   "id": "25fe05b0",
   "metadata": {},
   "source": [
    "##### Визуализировать информацию о расстоянии и времени поездок для пользователей обеих категорий <a id='43'></a>\n",
    "\n",
    "Построим графики для пользователей обеих категорий, сравним их расстояния и время поездок."
   ]
  },
  {
   "cell_type": "code",
   "execution_count": 23,
   "id": "bf03d3d1",
   "metadata": {},
   "outputs": [
    {
     "data": {
      "text/plain": [
       "count    11568.000000\n",
       "mean        17.390909\n",
       "std          6.326803\n",
       "min          0.500000\n",
       "25%         12.958437\n",
       "50%         17.326890\n",
       "75%         21.594071\n",
       "max         34.948498\n",
       "Name: duration, dtype: float64"
      ]
     },
     "metadata": {},
     "output_type": "display_data"
    },
    {
     "data": {
      "text/plain": [
       "count    6500.000000\n",
       "mean       18.541985\n",
       "std         5.572048\n",
       "min         3.760353\n",
       "25%        14.524654\n",
       "50%        18.178153\n",
       "75%        21.884129\n",
       "max        40.823963\n",
       "Name: duration, dtype: float64"
      ]
     },
     "metadata": {},
     "output_type": "display_data"
    },
    {
     "data": {
      "image/png": "[encoded data removed]",
      "text/plain": [
       "<Figure size 640x480 with 1 Axes>"
      ]
     },
     "metadata": {},
     "output_type": "display_data"
    },
    {
     "data": {
      "image/png": "[encoded data removed]",
      "text/plain": [
       "<Figure size 640x480 with 1 Axes>"
      ]
     },
     "metadata": {},
     "output_type": "display_data"
    },
    {
     "data": {
      "text/plain": [
       "count    11568.000000\n",
       "mean      3045.495282\n",
       "std       1246.173806\n",
       "min          0.855683\n",
       "25%       2366.562689\n",
       "50%       3114.648465\n",
       "75%       3905.697894\n",
       "max       7211.007745\n",
       "Name: distance, dtype: float64"
      ]
     },
     "metadata": {},
     "output_type": "display_data"
    },
    {
     "data": {
      "text/plain": [
       "count    6500.000000\n",
       "mean     3115.445388\n",
       "std       836.895330\n",
       "min       244.210438\n",
       "25%      2785.444017\n",
       "50%      3148.637229\n",
       "75%      3560.574425\n",
       "max      5699.769662\n",
       "Name: distance, dtype: float64"
      ]
     },
     "execution_count": 23,
     "metadata": {},
     "output_type": "execute_result"
    }
   ],
   "source": [
    "display(df_without_sub['duration'].describe())\n",
    "display(df_with_sub['duration'].describe())\n",
    "\n",
    "sns.histplot(data=df_without_sub, x='duration', bins=30);\n",
    "sns.histplot(data=df_with_sub, x='duration', bins=30, color='red').set_title('Продолжительность поездок с и без подписки');\n",
    "\n",
    "plt.xlabel('Продолжительность, мин');\n",
    "plt.ylabel('Частота');\n",
    "plt.legend (('С подпиской', 'Без подписки'));\n",
    "\n",
    "plt.show()\n",
    "\n",
    "sns.histplot(data=df_without_sub, x='distance', bins=30);\n",
    "sns.histplot(data=df_with_sub, x='distance', bins=30, color='red').set_title('Продолжительность поездок с и без подписки');\n",
    "\n",
    "plt.xlabel('Расстояние, м');\n",
    "plt.ylabel('Частота');\n",
    "plt.legend (('С подпиской', 'Без подписки'));\n",
    "\n",
    "plt.show()\n",
    "\n",
    "\n",
    "display(df_without_sub['distance'].describe())\n",
    "df_with_sub['distance'].describe()"
   ]
  },
  {
   "cell_type": "markdown",
   "id": "045ac812",
   "metadata": {},
   "source": [
    "Имеем, что пользователи с и без подписки в целом имеют схожие модели поведения, исходя из полученных графиков расстояния и времени поездки."
   ]
  },
  {
   "cell_type": "markdown",
   "id": "f2008535",
   "metadata": {},
   "source": [
    "##### Выводы <a id='44'></a>\n",
    "\n",
    "- Обеденили 3 датафрейма в один с помощью метода `merge()`.\n",
    "- Создали два датафрейма с подписками и без и визуализировали полученные данные.\n",
    "- Пользователи с и без подписки в целом имеют схожие модели поведения, исходя из полученных графиков расстояния и времени поездки."
   ]
  },
  {
   "cell_type": "markdown",
   "id": "213663f0",
   "metadata": {},
   "source": [
    "#### Шаг 5. Подсчёт выручки <a id='5'></a>\n",
    "\n",
    "##### Найти суммарное расстояние, количество поездок и суммарное время для каждого пользователя за каждый месяц <a id='51'></a>\n",
    "\n",
    "Перед тем, как агрегировать данные округим столбец `duration`."
   ]
  },
  {
   "cell_type": "code",
   "execution_count": 24,
   "id": "fa7d77b2",
   "metadata": {},
   "outputs": [],
   "source": [
    "df['duration'] = np.ceil(df['duration']).astype(int)"
   ]
  },
  {
   "cell_type": "markdown",
   "id": "29940399",
   "metadata": {},
   "source": [
    "Создадим новый датафрейм с агрегированными данными из `df`. Найдем суммарное расстояние, количество поездок и суммарное время для каждого пользователя за каждый месяц."
   ]
  },
  {
   "cell_type": "code",
   "execution_count": 25,
   "id": "6a88e114",
   "metadata": {},
   "outputs": [
    {
     "data": {
      "text/html": [
       "<div>\n",
       "<style scoped>\n",
       "    .dataframe tbody tr th:only-of-type {\n",
       "        vertical-align: middle;\n",
       "    }\n",
       "\n",
       "    .dataframe tbody tr th {\n",
       "        vertical-align: top;\n",
       "    }\n",
       "\n",
       "    .dataframe thead th {\n",
       "        text-align: right;\n",
       "    }\n",
       "</style>\n",
       "<table border=\"1\" class=\"dataframe\">\n",
       "  <thead>\n",
       "    <tr style=\"text-align: right;\">\n",
       "      <th></th>\n",
       "      <th>user_id</th>\n",
       "      <th>month</th>\n",
       "      <th>minute_price</th>\n",
       "      <th>start_ride_price</th>\n",
       "      <th>subscription_fee</th>\n",
       "      <th>duration_sum</th>\n",
       "      <th>distance_sum</th>\n",
       "      <th>user_id_count</th>\n",
       "    </tr>\n",
       "  </thead>\n",
       "  <tbody>\n",
       "    <tr>\n",
       "      <th>count</th>\n",
       "      <td>11331.000000</td>\n",
       "      <td>11331.000000</td>\n",
       "      <td>11331.000000</td>\n",
       "      <td>11331.000000</td>\n",
       "      <td>11331.000000</td>\n",
       "      <td>11331.000000</td>\n",
       "      <td>11331.000000</td>\n",
       "      <td>11331.000000</td>\n",
       "    </tr>\n",
       "    <tr>\n",
       "      <th>mean</th>\n",
       "      <td>811.061160</td>\n",
       "      <td>6.477539</td>\n",
       "      <td>7.199894</td>\n",
       "      <td>29.997352</td>\n",
       "      <td>79.610537</td>\n",
       "      <td>29.186127</td>\n",
       "      <td>4896.362584</td>\n",
       "      <td>1.594564</td>\n",
       "    </tr>\n",
       "    <tr>\n",
       "      <th>std</th>\n",
       "      <td>440.350798</td>\n",
       "      <td>3.443928</td>\n",
       "      <td>0.979861</td>\n",
       "      <td>24.496519</td>\n",
       "      <td>97.496144</td>\n",
       "      <td>16.752464</td>\n",
       "      <td>2911.516556</td>\n",
       "      <td>0.831604</td>\n",
       "    </tr>\n",
       "    <tr>\n",
       "      <th>min</th>\n",
       "      <td>1.000000</td>\n",
       "      <td>1.000000</td>\n",
       "      <td>6.000000</td>\n",
       "      <td>0.000000</td>\n",
       "      <td>0.000000</td>\n",
       "      <td>1.000000</td>\n",
       "      <td>2.570787</td>\n",
       "      <td>1.000000</td>\n",
       "    </tr>\n",
       "    <tr>\n",
       "      <th>25%</th>\n",
       "      <td>435.000000</td>\n",
       "      <td>4.000000</td>\n",
       "      <td>6.000000</td>\n",
       "      <td>0.000000</td>\n",
       "      <td>0.000000</td>\n",
       "      <td>17.000000</td>\n",
       "      <td>2972.202146</td>\n",
       "      <td>1.000000</td>\n",
       "    </tr>\n",
       "    <tr>\n",
       "      <th>50%</th>\n",
       "      <td>843.000000</td>\n",
       "      <td>6.000000</td>\n",
       "      <td>8.000000</td>\n",
       "      <td>50.000000</td>\n",
       "      <td>0.000000</td>\n",
       "      <td>24.000000</td>\n",
       "      <td>3988.723985</td>\n",
       "      <td>1.000000</td>\n",
       "    </tr>\n",
       "    <tr>\n",
       "      <th>75%</th>\n",
       "      <td>1191.000000</td>\n",
       "      <td>9.000000</td>\n",
       "      <td>8.000000</td>\n",
       "      <td>50.000000</td>\n",
       "      <td>199.000000</td>\n",
       "      <td>38.000000</td>\n",
       "      <td>6421.375890</td>\n",
       "      <td>2.000000</td>\n",
       "    </tr>\n",
       "    <tr>\n",
       "      <th>max</th>\n",
       "      <td>1534.000000</td>\n",
       "      <td>12.000000</td>\n",
       "      <td>8.000000</td>\n",
       "      <td>50.000000</td>\n",
       "      <td>199.000000</td>\n",
       "      <td>143.000000</td>\n",
       "      <td>23429.487786</td>\n",
       "      <td>7.000000</td>\n",
       "    </tr>\n",
       "  </tbody>\n",
       "</table>\n",
       "</div>"
      ],
      "text/plain": [
       "            user_id         month  minute_price  start_ride_price  \\\n",
       "count  11331.000000  11331.000000  11331.000000      11331.000000   \n",
       "mean     811.061160      6.477539      7.199894         29.997352   \n",
       "std      440.350798      3.443928      0.979861         24.496519   \n",
       "min        1.000000      1.000000      6.000000          0.000000   \n",
       "25%      435.000000      4.000000      6.000000          0.000000   \n",
       "50%      843.000000      6.000000      8.000000         50.000000   \n",
       "75%     1191.000000      9.000000      8.000000         50.000000   \n",
       "max     1534.000000     12.000000      8.000000         50.000000   \n",
       "\n",
       "       subscription_fee  duration_sum  distance_sum  user_id_count  \n",
       "count      11331.000000  11331.000000  11331.000000   11331.000000  \n",
       "mean          79.610537     29.186127   4896.362584       1.594564  \n",
       "std           97.496144     16.752464   2911.516556       0.831604  \n",
       "min            0.000000      1.000000      2.570787       1.000000  \n",
       "25%            0.000000     17.000000   2972.202146       1.000000  \n",
       "50%            0.000000     24.000000   3988.723985       1.000000  \n",
       "75%          199.000000     38.000000   6421.375890       2.000000  \n",
       "max          199.000000    143.000000  23429.487786       7.000000  "
      ]
     },
     "execution_count": 25,
     "metadata": {},
     "output_type": "execute_result"
    }
   ],
   "source": [
    "df_sum = (df.groupby(['user_id', 'month']).agg(\n",
    "    subscription_type=('subscription_type', 'first'),\n",
    "    minute_price=('minute_price', 'first'),\n",
    "    start_ride_price=('start_ride_price', 'first'),\n",
    "    subscription_fee=('subscription_fee', 'first'),\n",
    "    duration_sum=('duration', 'sum'),\n",
    "    distance_sum=('distance', 'sum'),\n",
    "    user_id_count=('user_id', 'count')\n",
    ")\n",
    "          .reset_index())\n",
    "df_sum.describe()"
   ]
  },
  {
   "cell_type": "markdown",
   "id": "c03c9c02",
   "metadata": {},
   "source": [
    "- Суммарная продолжительность поездки в среднем сотсавляет 29 минут, суммарное расстояние около 5 км.\n",
    "- Изходя из даннх, некоторые пользователи использовали сервис 1 раз.\n",
    "- Максимальное суммарное расстояние составляет 23.5 км. Кто-то очень сильно любит кататься :)"
   ]
  },
  {
   "cell_type": "markdown",
   "id": "2be6effb",
   "metadata": {},
   "source": [
    "##### Добавить столбец с помесячной выручкой, которую принёс каждый пользователь <a id='52'></a>\n",
    "\n",
    "Добавим столбец с помесячной выручкой для каждого пользователя."
   ]
  },
  {
   "cell_type": "code",
   "execution_count": 26,
   "id": "52d1f0e2",
   "metadata": {},
   "outputs": [
    {
     "data": {
      "text/plain": [
       "count    11331.000000\n",
       "mean       342.303504\n",
       "std        153.875346\n",
       "min         58.000000\n",
       "25%        234.000000\n",
       "50%        319.000000\n",
       "75%        415.000000\n",
       "max       1444.000000\n",
       "Name: month_revenue, dtype: float64"
      ]
     },
     "execution_count": 26,
     "metadata": {},
     "output_type": "execute_result"
    }
   ],
   "source": [
    "df_sum['month_revenue'] = ( df_sum['start_ride_price'] * df_sum['user_id_count'] + \n",
    "                           df_sum['minute_price'] * df_sum['duration_sum'] +\n",
    "                           df_sum['subscription_fee']\n",
    "\n",
    ")\n",
    "df_sum['month_revenue'].describe()"
   ]
  },
  {
   "cell_type": "markdown",
   "id": "c2e2b636",
   "metadata": {},
   "source": [
    "- В среднем за месяц пользователи тратят 342 рубля на прокат самоката. \n",
    "- Минимальная выручка с пользователя за месяц составляет 58 рублей, а максимальная 1444."
   ]
  },
  {
   "cell_type": "markdown",
   "id": "8704f694",
   "metadata": {},
   "source": [
    "##### Выводы <a id='53'></a>\n",
    "\n",
    "- Суммарная продолжительность поездки в среднем сотсавляет 29 минут, суммарное расстояние около 5 км.\n",
    "- Изходя из даннх, некоторые пользователи использовали сервис 1 раз.\n",
    "- Максимальное суммарное расстояние составляет 23.5 км. Кто-то очень сильно любит кататься :)\n",
    "- В среднем за месяц пользователи тратят 342 рубля на прокат самоката. \n",
    "- Минимальная выручка с пользователя за месяц составляет 58 рублей, а максимальная 1444."
   ]
  },
  {
   "cell_type": "markdown",
   "id": "54c77f2d",
   "metadata": {},
   "source": [
    "#### Шаг 6. Проверка гипотез <a id='6'></a>\n",
    "\n",
    "##### Проверить:  тратят ли пользователи с подпиской больше времени на поездки <a id='61'></a>\n",
    "\n",
    "Сформируем гипотезу:\n",
    "- H0: Пользователи с и без подписки тратят одинаковое количество времени на поездки\n",
    "- H1: Пользователи с подпиской тратят больше времени на поездки"
   ]
  },
  {
   "cell_type": "code",
   "execution_count": 27,
   "id": "c70837d1",
   "metadata": {},
   "outputs": [
    {
     "name": "stdout",
     "output_type": "stream",
     "text": [
      "p-value=  5.6757813771289775e-37\n"
     ]
    },
    {
     "data": {
      "text/plain": [
       "'H1: Пользователи с подпиской тратят больше времени на поездки'"
      ]
     },
     "execution_count": 27,
     "metadata": {},
     "output_type": "execute_result"
    }
   ],
   "source": [
    "alpha = 0.05\n",
    "\n",
    "res = st.ttest_ind(df_with_sub['duration'],\n",
    "                  df_without_sub['duration'],\n",
    "                  equal_var=False, \n",
    "                  alternative='greater')\n",
    "\n",
    "print('p-value= ', res.pvalue)\n",
    "\n",
    "\"H1: Пользователи с подпиской тратят больше времени на поездки\" if res.pvalue < alpha else \"H0: Пользователи с и без подписки \\\n",
    "тратят одинаковое количество времени на поездки\""
   ]
  },
  {
   "cell_type": "code",
   "execution_count": 28,
   "id": "8f5f9787",
   "metadata": {},
   "outputs": [
    {
     "name": "stdout",
     "output_type": "stream",
     "text": [
      "Средняя продолжительность поездки пользователей с подпиской = 18.54198516280583\n",
      "Средняя продолжительность поездки пользователей без подписки = 17.39090929866399\n"
     ]
    }
   ],
   "source": [
    "print('Средняя продолжительность поездки пользователей с подпиской =', df_with_sub['duration'].mean())\n",
    "print('Средняя продолжительность поездки пользователей без подписки =', df_without_sub['duration'].mean())"
   ]
  },
  {
   "cell_type": "markdown",
   "id": "551b14b7",
   "metadata": {},
   "source": [
    "Применив гипотезу о равенстве генеральных средних двух распределений, получили, что пользватели с подпиской тратят больше времени на поездки при уровне значимости 0.05. Средняя продолжительность поездки пользователей с подпиской 18.5 минут, а без 17.4 мин."
   ]
  },
  {
   "cell_type": "markdown",
   "id": "b965f4da",
   "metadata": {},
   "source": [
    "##### Проверить, что среднее расстояние, которое проезжают пользователи с подпиской за одну поездку, не превышает 3130 метров <a id='62'></a>\n",
    "\n",
    "Сформируем гипотезу:\n",
    "\n",
    "- H0: За одну поездку пользователи с подпиской проезжают в среднем  3130 метров. \n",
    "- H1: За одну поездку пользователи с подпиской проезжают в среднем больше 3130 метров.\n",
    "\n",
    "Воспользуемся одностроней гипотезей, отрезав левый хвост."
   ]
  },
  {
   "cell_type": "code",
   "execution_count": 31,
   "id": "611d0ce6",
   "metadata": {},
   "outputs": [
    {
     "name": "stdout",
     "output_type": "stream",
     "text": [
      "p-value=  1.0\n"
     ]
    },
    {
     "data": {
      "text/plain": [
       "'За одну поездку пользователи с подпиской проезжают в среднем меньше 3130 метров'"
      ]
     },
     "execution_count": 31,
     "metadata": {},
     "output_type": "execute_result"
    }
   ],
   "source": [
    "meter = 3130\n",
    "alpha = 0.05\n",
    "\n",
    "res = st.ttest_1samp(df.query('subscription_type == \"ultra\"')['duration'],\n",
    "                  meter, \n",
    "                  alternative='greater')\n",
    "\n",
    "print('p-value= ', res.pvalue)\n",
    "\n",
    "\"За одну поездку пользователи с подпиской проезжают в среднем больше 3130 метров\" if res.pvalue \\\n",
    "< alpha else \"За одну поездку пользователи с подпиской проезжают в среднем меньше 3130 метров\""
   ]
  },
  {
   "cell_type": "markdown",
   "id": "383d8864",
   "metadata": {},
   "source": [
    "Проверив одностороннюю гипотезу, получили, что за одну поездку пользователи с подпиской проезжают в среднем меньше 3130 метров при уровне значимости 0.05."
   ]
  },
  {
   "cell_type": "markdown",
   "id": "a1f4563c",
   "metadata": {},
   "source": [
    "##### Проверить, будет ли помесячная выручка от пользователей с подпиской по месяцам выше, чем выручка от пользователей без подписки. <a id='63'></a>\n",
    "\n",
    "Сформируем гипотезу:\n",
    "\n",
    "- H0: Помесячная выручка от пользователей с подпиской равна выручке пользователей без подписки.\n",
    "- H1: Помесячная выручка от пользователей с подпиской выше выручки пользователей без подписки."
   ]
  },
  {
   "cell_type": "code",
   "execution_count": 32,
   "id": "8855b9c2",
   "metadata": {},
   "outputs": [
    {
     "name": "stdout",
     "output_type": "stream",
     "text": [
      "p-value=  8.874140893976874e-40\n"
     ]
    },
    {
     "data": {
      "text/plain": [
       "'H1:Помесячная выручка от пользователей с подпиской выше выручки пользователей без подписки'"
      ]
     },
     "execution_count": 32,
     "metadata": {},
     "output_type": "execute_result"
    }
   ],
   "source": [
    "alpha = 0.05\n",
    "\n",
    "res = st.ttest_ind(df_sum.query('subscription_type == \"ultra\"')['month_revenue'],\n",
    "                  df_sum.query('subscription_type == \"free\"')['month_revenue'],\n",
    "                  equal_var=False, \n",
    "                  alternative='greater')\n",
    "\n",
    "print('p-value= ', res.pvalue)\n",
    "\n",
    "\"H1:Помесячная выручка от пользователей с подпиской выше выручки пользователей без подписки\" if res.pvalue < alpha else \"H0: \\\n",
    "Помесячная выручка от пользователей с подпиской равна выручке пользователей без подписки\""
   ]
  },
  {
   "cell_type": "code",
   "execution_count": 33,
   "id": "f40ead8e",
   "metadata": {},
   "outputs": [
    {
     "name": "stdout",
     "output_type": "stream",
     "text": [
      "В средем ежемесячная поездка пользователей с подпиской составляет 362.7921906022502\n",
      "В средем ежемесячная поездка пользователей без подписки составляет 328.6413651073845\n"
     ]
    }
   ],
   "source": [
    "print('В средем ежемесячная поездка пользователей с подпиской составляет',  \n",
    "      df_sum.query('subscription_type == \"ultra\"')['month_revenue'].mean())\n",
    "print('В средем ежемесячная поездка пользователей без подписки составляет',  \n",
    "      df_sum.query('subscription_type == \"free\"')['month_revenue'].mean())"
   ]
  },
  {
   "cell_type": "markdown",
   "id": "25ca40ce",
   "metadata": {},
   "source": [
    "Применив гипотезу о равенстве генеральных средних двух распределений, получили, что помесячная выручка от пользователей с подпиской выше выручки пользователей без подписки при уровне значимости 0.05. Ежемесячная поездка пользователей с подпиской составляет 363 рубля, а без подписки 329 рублей."
   ]
  },
  {
   "cell_type": "markdown",
   "id": "8b4c637f",
   "metadata": {},
   "source": [
    "##### Выборки до и после обновления сервера. <a id='64'></a>\n",
    "\n",
    "**Вопрос:**\n",
    "\n",
    "Представьте такую ситуацию: техническая команда сервиса обновила сервера, с которыми взаимодействует мобильное приложение. Она надеется, что из-за этого количество обращений в техподдержку значимо снизилось. Некоторый файл содержит для каждого пользователя данные о количестве обращений до обновления и после него. Какой тест вам понадобился бы для проверки этой гипотезы?\n",
    "\n",
    "**Ответ:**\n",
    "\n",
    "Поскольку у нас есть 2 выборки до и после обновления, то они будут зависеть друг от друга. В данном случае подойдет t-test для 2 зависимых выборок. Библиотека `scipy.stats` обширна своим функционалом, можно даже утерждать, что она как швецарский нож для анализа данных :). В данном случае нам понадобится метод `st.ttest_rel(before, after)`, где `before` - количество обращений до, `after` -количество обращений после."
   ]
  },
  {
   "cell_type": "markdown",
   "id": "25bc8c3b",
   "metadata": {},
   "source": [
    "##### Вывод <a id='65'></a>\n",
    "\n",
    "- Применив гипотезу о равенстве генеральных средних двух распределений, получили, что пользватели с подпиской тратят больше времени на поездки при уровне значимости 0.05. Средняя продолжительность поездки пользователей с подпиской 18.5 минут, а без 17.4 мин.\n",
    "- Проверив одностороннюю гипотезу, получили, что за одну поездку пользователи с подпиской проезжают в среднем меньше 3130 метров при уровне значимости 0.05.\n",
    "- Применив гипотезу о равенстве генеральных средних двух распределений, получили, что помесячная выручка от пользователей с подпиской выше выручки пользователей без подписки при уровне значимости 0.05. Ежемесячная поездка пользователей с подпиской составляет 363 рубля, а без подписки 329 рублей."
   ]
  },
  {
   "cell_type": "markdown",
   "id": "46acea72",
   "metadata": {},
   "source": [
    "#### Шаг 7. Распределения <a id='7'></a>\n",
    "\n",
    "##### Исследовние акций с промокодом <a id='71'></a>\n",
    "\n",
    "**Задача**\n",
    "\n",
    "Отделу маркетинга GoFast поставили задачу: нужно провести акцию с раздачей промокодов на один бесплатный месяц подписки, в рамках которой как минимум 100 существующих клиентов должны продлить эту подписку. То есть по завершении периода действия подписки пользователь может либо отказаться от неё, либо продлить, совершив соответствующий платёж. \n",
    "\n",
    "Эта акция уже проводилась ранее и по итогу выяснилось, что после бесплатного пробного периода подписку продлевают 10 % пользователей. Выясните, какое минимальное количество промокодов нужно разослать, чтобы вероятность не выполнить план была примерно 5 %. Подберите параметры распределения, описывающего эту ситуацию, постройте график распределения и сформулируйте ответ на вопрос о количестве промокодов.\n",
    "\n",
    "**Решение**\n",
    "\n",
    "Для решения этой задачи мы можем использовать биномиальное распределение, так как у нас есть два исхода для каждого клиента: он либо продлит подписку, либо нет. \n",
    "\n",
    "Пусть p - вероятность продления подписки после пробного периода, равная 0.1. Тогда вероятность отказа от продления подписки q = 1 - p = 0.9.\n",
    "\n",
    "Для того чтобы найти минимальное количество промокодов, которое нужно разослать, чтобы вероятность не выполнить план была примерно 5%, мы можем воспользоваться формулой биномиального распределения:\n",
    "\n",
    "P(X <= 100) = F(100, n, p) >= 0.95,\n",
    "\n",
    "где X - количество клиентов, продливших подписку, n - количество разосланных промокодов, p=0.1 - вероятность продления подписки."
   ]
  },
  {
   "cell_type": "code",
   "execution_count": 34,
   "id": "ff2e7f5c",
   "metadata": {},
   "outputs": [],
   "source": [
    "# функция, которая вычисляет минимальное число промокодов, которые нужно разослать\n",
    "\n",
    "def binom_dist(p, k, conf):\n",
    "    \n",
    "    n = np.arange(k, 20*k)\n",
    "    dist = 1 - st.binom.cdf(k, n, p)\n",
    "    req_num = n[dist >= conf][0]\n",
    "    \n",
    "    return req_num"
   ]
  },
  {
   "cell_type": "code",
   "execution_count": 35,
   "id": "6f626f88",
   "metadata": {},
   "outputs": [
    {
     "name": "stdout",
     "output_type": "stream",
     "text": [
      "Минимальное количество промокодов нужно разослать = 1172\n"
     ]
    }
   ],
   "source": [
    "p = 0.1\n",
    "k = 100\n",
    "conf = 0.95\n",
    "\n",
    "req_num = binom_dist(p, k, conf)\n",
    "print('Минимальное количество промокодов нужно разослать =', req_num)"
   ]
  },
  {
   "cell_type": "code",
   "execution_count": 36,
   "id": "ceac0149",
   "metadata": {},
   "outputs": [],
   "source": [
    "# функция построения графика биноминального распределения с ранее расчитаным n\n",
    "\n",
    "def cdf_binom(req, p):\n",
    "    \n",
    "    _, ax = plt.subplots(1, 1, figsize=(15, 10))\n",
    "    x = np.arange(0, req+1, 1)\n",
    "    ax.plot(x, 1-st.binom.cdf(x, req, p), lw=2)\n",
    "    ax.set_xlabel(\"Количество промокодов\")\n",
    "    ax.set_ylabel(\"Вероятность\")\n",
    "    ax.set_title(\"Биноминальное распределение B(\" + str(req_num) + \",\" + str(p) + \")\")"
   ]
  },
  {
   "cell_type": "code",
   "execution_count": 37,
   "id": "a75d587a",
   "metadata": {},
   "outputs": [
    {
     "data": {
      "image/png": "[encoded data removed]",
      "text/plain": [
       "<Figure size 1500x1000 with 1 Axes>"
      ]
     },
     "metadata": {},
     "output_type": "display_data"
    }
   ],
   "source": [
    "cdf_binom(req_num, p)"
   ]
  },
  {
   "cell_type": "markdown",
   "id": "97a4e9c2",
   "metadata": {},
   "source": [
    "Итак, минимальное число промокодов, которые нужно разослать составляет 1172, чтобы вероятность не выполнить план составляля не более 5%."
   ]
  },
  {
   "cell_type": "markdown",
   "id": "08fb1054",
   "metadata": {},
   "source": [
    "##### Исследования push-уведомлений в мобильном приложении <a id='72'></a>\n",
    "\n",
    "**Задача**\n",
    "\n",
    "Отдел маркетинга рассылает клиентам push-уведомления в мобильном приложении. Клиенты могут открыть его или не открывать. Известно, что уведомления открывают около 40 % получивших клиентов. Отдел планирует разослать 1 млн уведомлений. С помощью аппроксимации постройте примерный график распределения и оцените вероятность того, что уведомление откроют не более 399,5 тыс. пользователей.\n",
    "\n",
    "**Решение**\n",
    "\n",
    "Для оценки вероятности того, что уведомление откроют не более 399,5 тыс. пользователей, мы можем использовать нормальное распределение, так как количество пользователей, открывших уведомление, следует биномиальному распределению, которое можно аппроксимировать нормальным распределением при больших значениях n.\n",
    "\n",
    "Среднее значение биномиального распределения равно np, где n - количество уведомлений, а p - вероятность открытия уведомления. В данном случае среднее значение равно 1 000 000 * 0,4 = 400 000.\n",
    "\n",
    "Дисперсия биномиального распределения равна np(1-p), что в данном случае равно 1 000 000 * 0,4 * 0,6 = 240 000.\n",
    "\n",
    "Теперь мы можем использовать нормальное распределение со средним значением 400 000 и стандартным отклонением sqrt(240 000) = 489.9."
   ]
  },
  {
   "cell_type": "code",
   "execution_count": 38,
   "id": "b376520f",
   "metadata": {},
   "outputs": [
    {
     "name": "stdout",
     "output_type": "stream",
     "text": [
      "Вероятность, что откроют не более 399.5 тыс. пользователей 0.15371708296369768\n"
     ]
    }
   ],
   "source": [
    "n = 1000000\n",
    "p = 0.4\n",
    "max_cliient = 399500\n",
    "\n",
    "\n",
    "mu = n * p\n",
    "sigma = (n * p * (1-p))**0.5\n",
    "\n",
    "distr = st.norm(mu, sigma)\n",
    "\n",
    "result = distr.cdf(399500)\n",
    "print('Вероятность, что откроют не более 399.5 тыс. пользователей', result)"
   ]
  },
  {
   "cell_type": "code",
   "execution_count": 39,
   "id": "96156901",
   "metadata": {},
   "outputs": [
    {
     "data": {
      "image/png": "[encoded data removed]",
      "text/plain": [
       "<Figure size 1500x500 with 1 Axes>"
      ]
     },
     "metadata": {},
     "output_type": "display_data"
    }
   ],
   "source": [
    "approc_norm = np.random.normal(mu,sigma, size=10000)\n",
    "\n",
    "sns.set(rc={'figure.figsize':(15,5)})\n",
    "plt.hist(approc_norm, bins=40);\n",
    "plt.axvline(x=max_cliient, color='g', linestyle='-', label=f'Уведомления откроют не более: {max_cliient}');\n",
    "\n",
    "plt.xlabel(\"Количество пользователей, открывших уведомление\")\n",
    "plt.ylabel(\"Плотность вероятности\")\n",
    "plt.title(\"Гистограмма аппроксимации биномиального распределения\")\n",
    "plt.legend();"
   ]
  },
  {
   "cell_type": "markdown",
   "id": "aeba2ae3",
   "metadata": {},
   "source": [
    "При отправке уведомлений 1 000 000 клиентам вероятность того, что количество пользователей, не открывших уведомление, не превысит 399 500 человек, составляет примерно 15%."
   ]
  },
  {
   "cell_type": "markdown",
   "id": "0b7a6ab8",
   "metadata": {},
   "source": [
    "#### Общий вывод <a id='8'></a>\n",
    "\n",
    "На каждом этапе были сделаны соотвествующие выводы:\n",
    "\n",
    "**Шаг 1. Загрузка данных**:\n",
    "\n",
    "- В таблице users всего 1565 значений, а также отустсвуют пропущенные данные. Тип данных user_id и age - int64.\n",
    "- В таблице rides всего 18068 значений, а также отустсвуют пропущенные данные. Тип данных user_id - int64, distance и duration - - float64. Столбец date нужно будет преобразовать из object в datetime64.\n",
    "- В датасете subs всего 2 значения.\n",
    "- В таблицах отсутствуют пропуски.\n",
    "\n",
    "**Шаг 2. Предобработка данных:**\n",
    "\n",
    "- Для датасета rides в столбце date поменяли тип данных на datetime64.\n",
    "- Добавлен столбец month в датафрейм rides.\n",
    "- В датафреймах отстутсвуют пустые значения.\n",
    "- В таблицах rides и subs нет дубликатов.\n",
    "- В useres присутствовал 31 дубликат, так как соотношение дкбликатов к общему числу строк составлял около 2%, то были убраны дублирующие строки.\n",
    "\n",
    "**Шаг 3. Исследовательский анализ данных**\n",
    "\n",
    "- Больше всего сервисом пользуются в Пятгеорске (219), а меньше в Москве (168).\n",
    "- 46% пользователей пользуются подписокй, а 54% ее не имеют.\n",
    "- Средний возраст пользователей составляет 25 лет, при этом минимальный возраст сотсавляет 12 лет, а максимальный 43 года.\n",
    "- В среднем пользователи преодолевают около 3100 м. При этом минимальное значение составляет около 1 м, а макимальное 7200, скорее всего пользователи могли случайно выбрать не тот самокат, например, при минимальном расстояние.\n",
    "- В среднем пользователи катаются на электросамокатах 18 минут. При этом минимальное количество времени составляет 30 секунд, а макимальное 41.\n",
    "\n",
    "**Шаг 4. Объединение данных**\n",
    "\n",
    "- Обеденили 3 датафрейма в один с помощью метода merge().\n",
    "- Создали два датафрейма с подписками и без и визуализировали полученные данные.\n",
    "- Пользователи с и без подписки в целом имеют схожие модели поведения, исходя из полученных графиков расстояния и времени поездки.\n",
    "\n",
    "**Шаг 5. Подсчёт выручки**\n",
    "\n",
    "- Суммарная продолжительность поездки в среднем сотсавляет 29 минут, суммарное расстояние около 5 км.\n",
    "- Изходя из даннх, некоторые пользователи использовали сервис 1 раз.\n",
    "- Максимальное суммарное расстояние составляет 23.5 км. Кто-то очень сильно любит кататься :)\n",
    "- В среднем за месяц пользователи тратят 342 рубля на прокат самоката. \n",
    "- Минимальная выручка с пользователя за месяц составляет 58 рублей, а максимальная 1444.\n",
    "\n",
    "**Шаг 6. Проверка гипотез**\n",
    "\n",
    "- Применив гипотезу о равенстве генеральных средних двух распределений, получили, что пользватели с подпиской тратят больше времени на поездки при уровне значимости 0.05. Средняя продолжительность поездки пользователей с подпиской 18.5 минут, а без 17.4 мин.\n",
    "- Проверив одностороннюю гипотезу, получили, что за одну поездку пользователи с подпиской проезжают в среднем меньше 3130 метров при уровне значимости 0.05.\n",
    "- Применив гипотезу о равенстве генеральных средних двух распределений, получили, что помесячная выручка от пользователей с подпиской выше выручки пользователей без подписки при уровне значимости 0.05. Ежемесячная поездка пользователей с подпиской составляет 363 рубля, а без подписки 329 рублей.\n",
    "\n",
    "**Шаг 7. Распределения**\n",
    "\n",
    "- Минимальное число промокодов, которые нужно разослать составляет 1172, чтобы вероятность не выполнить план составляля не более 5%\n",
    "- При отправке уведомлений 1 000 000 клиентам вероятность того, что количество пользователей, не открывших уведомление, не превысит 399 500 человек, составляет примерно 15%."
   ]
  },
  {
   "cell_type": "code",
   "execution_count": null,
   "id": "269af7a3",
   "metadata": {},
   "outputs": [],
   "source": []
  }
 ],
 "metadata": {
  "kernelspec": {
   "display_name": "Python 3 (ipykernel)",
   "language": "python",
   "name": "python3"
  },
  "language_info": {
   "codemirror_mode": {
    "name": "ipython",
    "version": 3
   },
   "file_extension": ".py",
   "mimetype": "text/x-python",
   "name": "python",
   "nbconvert_exporter": "python",
   "pygments_lexer": "ipython3",
   "version": "3.10.9"
  }
 },
 "nbformat": 4,
 "nbformat_minor": 5
}
